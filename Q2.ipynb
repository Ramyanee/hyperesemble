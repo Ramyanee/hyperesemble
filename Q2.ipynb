{
 "cells": [
  {
   "cell_type": "code",
   "execution_count": 1,
   "source": [
    "import pandas as pd\n",
    "import sklearn\n",
    "import numpy as np\n",
    "import seaborn as sns\n",
    "import matplotlib.pyplot as plt\n"
   ],
   "outputs": [],
   "metadata": {
    "colab": {
     "base_uri": "https://localhost:8080/"
    },
    "id": "q0j5sCEoNpEW",
    "outputId": "363e2ac6-7ca9-44f6-c4d2-7d3d4242a237"
   }
  },
  {
   "cell_type": "code",
   "execution_count": null,
   "source": [],
   "outputs": [],
   "metadata": {
    "id": "WBmHYx3ZsaZu"
   }
  },
  {
   "cell_type": "code",
   "execution_count": 2,
   "source": [
    "bank_data = pd.read_csv(\"/Users/ramyanee/Downloads/ML/bank-additional/bank-additional-full.csv\",sep=';')"
   ],
   "outputs": [],
   "metadata": {
    "id": "3YnuUFevUOpi"
   }
  },
  {
   "cell_type": "code",
   "execution_count": null,
   "source": [],
   "outputs": [],
   "metadata": {}
  },
  {
   "cell_type": "code",
   "execution_count": 3,
   "source": [
    "d = bank_data.copy()"
   ],
   "outputs": [],
   "metadata": {
    "id": "Vi71gKkgU4VJ"
   }
  },
  {
   "cell_type": "code",
   "execution_count": 4,
   "source": [
    "d['loan'].dtypes == 'object'"
   ],
   "outputs": [
    {
     "output_type": "execute_result",
     "data": {
      "text/plain": [
       "True"
      ]
     },
     "metadata": {},
     "execution_count": 4
    }
   ],
   "metadata": {}
  },
  {
   "cell_type": "code",
   "execution_count": 5,
   "source": [
    "d.info()"
   ],
   "outputs": [
    {
     "output_type": "stream",
     "name": "stdout",
     "text": [
      "<class 'pandas.core.frame.DataFrame'>\n",
      "RangeIndex: 41188 entries, 0 to 41187\n",
      "Data columns (total 21 columns):\n",
      " #   Column          Non-Null Count  Dtype  \n",
      "---  ------          --------------  -----  \n",
      " 0   age             41188 non-null  int64  \n",
      " 1   job             41188 non-null  object \n",
      " 2   marital         41188 non-null  object \n",
      " 3   education       41188 non-null  object \n",
      " 4   default         41188 non-null  object \n",
      " 5   housing         41188 non-null  object \n",
      " 6   loan            41188 non-null  object \n",
      " 7   contact         41188 non-null  object \n",
      " 8   month           41188 non-null  object \n",
      " 9   day_of_week     41188 non-null  object \n",
      " 10  duration        41188 non-null  int64  \n",
      " 11  campaign        41188 non-null  int64  \n",
      " 12  pdays           41188 non-null  int64  \n",
      " 13  previous        41188 non-null  int64  \n",
      " 14  poutcome        41188 non-null  object \n",
      " 15  emp.var.rate    41188 non-null  float64\n",
      " 16  cons.price.idx  41188 non-null  float64\n",
      " 17  cons.conf.idx   41188 non-null  float64\n",
      " 18  euribor3m       41188 non-null  float64\n",
      " 19  nr.employed     41188 non-null  float64\n",
      " 20  y               41188 non-null  object \n",
      "dtypes: float64(5), int64(5), object(11)\n",
      "memory usage: 6.6+ MB\n"
     ]
    }
   ],
   "metadata": {
    "colab": {
     "base_uri": "https://localhost:8080/"
    },
    "id": "3eP4bbBWUa1O",
    "outputId": "923cc1f0-d192-4684-f487-2b2a0cd52490"
   }
  },
  {
   "cell_type": "code",
   "execution_count": 6,
   "source": [
    "d = d.drop('duration',axis = 1)"
   ],
   "outputs": [],
   "metadata": {
    "id": "XOZF2dGkUaQ5"
   }
  },
  {
   "cell_type": "code",
   "execution_count": 7,
   "source": [
    "# from matplotlib import rcParams\n",
    "# rcParams['figure.figsize'] = 25,5\n",
    "# sns.countplot(x= 'job', hue = 'y', data=d)"
   ],
   "outputs": [],
   "metadata": {
    "id": "N5JnHF29Uavk"
   }
  },
  {
   "cell_type": "code",
   "execution_count": 8,
   "source": [
    "# sns.countplot(x= 'marital', hue = 'y', data=d)"
   ],
   "outputs": [],
   "metadata": {
    "id": "SJCwjt7SUamQ"
   }
  },
  {
   "cell_type": "code",
   "execution_count": 9,
   "source": [
    "# sns.countplot(x= 'education', hue = 'y', data=d)"
   ],
   "outputs": [],
   "metadata": {
    "id": "FsVoOpPE-rcR"
   }
  },
  {
   "cell_type": "code",
   "execution_count": 10,
   "source": [
    "# sns.countplot(x= 'job', hue = 'y', data=d)"
   ],
   "outputs": [],
   "metadata": {
    "id": "4RgeFAQsUag8"
   }
  },
  {
   "cell_type": "code",
   "execution_count": 11,
   "source": [
    "# fig, a = plt.subplots(1,5,figsize=(30, 5));\n",
    "# sns.countplot(x= 'default', hue = 'y', data=d, ax = a[0]);\n",
    "# sns.countplot(x= 'housing', hue = 'y', data=d, ax=a[1]);\n",
    "# sns.countplot(x= 'loan', hue = 'y', data=d, ax =a[2]);\n",
    "# sns.countplot(x= 'contact', hue = 'y', data=d, ax =a[3]);\n",
    "# sns.countplot(x= 'poutcome', hue = 'y', data=d, ax =a[4]);\n",
    "# a[0].set_xticklabels(a[0].get_xticklabels(), rotation=90);"
   ],
   "outputs": [],
   "metadata": {
    "id": "faagxS2pUaLM"
   }
  },
  {
   "cell_type": "code",
   "execution_count": 12,
   "source": [
    "# from sklearn.preprocessing import LabelEncoder \n",
    "# le = LabelEncoder()\n",
    "# for col in d.columns:\n",
    "#     if d[col].dtypes == 'object':\n",
    "#         d[col] = le.fit_transform(d[col])\n",
    "d = pd.get_dummies(d, columns=['job','marital','education','default','housing','loan','contact','month','day_of_week','poutcome'])\n"
   ],
   "outputs": [],
   "metadata": {
    "id": "72Z22VaZmXLV"
   }
  },
  {
   "cell_type": "code",
   "execution_count": 13,
   "source": [
    "d.head()"
   ],
   "outputs": [
    {
     "output_type": "execute_result",
     "data": {
      "text/html": [
       "<div>\n",
       "<style scoped>\n",
       "    .dataframe tbody tr th:only-of-type {\n",
       "        vertical-align: middle;\n",
       "    }\n",
       "\n",
       "    .dataframe tbody tr th {\n",
       "        vertical-align: top;\n",
       "    }\n",
       "\n",
       "    .dataframe thead th {\n",
       "        text-align: right;\n",
       "    }\n",
       "</style>\n",
       "<table border=\"1\" class=\"dataframe\">\n",
       "  <thead>\n",
       "    <tr style=\"text-align: right;\">\n",
       "      <th></th>\n",
       "      <th>age</th>\n",
       "      <th>campaign</th>\n",
       "      <th>pdays</th>\n",
       "      <th>previous</th>\n",
       "      <th>emp.var.rate</th>\n",
       "      <th>cons.price.idx</th>\n",
       "      <th>cons.conf.idx</th>\n",
       "      <th>euribor3m</th>\n",
       "      <th>nr.employed</th>\n",
       "      <th>y</th>\n",
       "      <th>...</th>\n",
       "      <th>month_oct</th>\n",
       "      <th>month_sep</th>\n",
       "      <th>day_of_week_fri</th>\n",
       "      <th>day_of_week_mon</th>\n",
       "      <th>day_of_week_thu</th>\n",
       "      <th>day_of_week_tue</th>\n",
       "      <th>day_of_week_wed</th>\n",
       "      <th>poutcome_failure</th>\n",
       "      <th>poutcome_nonexistent</th>\n",
       "      <th>poutcome_success</th>\n",
       "    </tr>\n",
       "  </thead>\n",
       "  <tbody>\n",
       "    <tr>\n",
       "      <th>0</th>\n",
       "      <td>56</td>\n",
       "      <td>1</td>\n",
       "      <td>999</td>\n",
       "      <td>0</td>\n",
       "      <td>1.1</td>\n",
       "      <td>93.994</td>\n",
       "      <td>-36.4</td>\n",
       "      <td>4.857</td>\n",
       "      <td>5191.0</td>\n",
       "      <td>no</td>\n",
       "      <td>...</td>\n",
       "      <td>0</td>\n",
       "      <td>0</td>\n",
       "      <td>0</td>\n",
       "      <td>1</td>\n",
       "      <td>0</td>\n",
       "      <td>0</td>\n",
       "      <td>0</td>\n",
       "      <td>0</td>\n",
       "      <td>1</td>\n",
       "      <td>0</td>\n",
       "    </tr>\n",
       "    <tr>\n",
       "      <th>1</th>\n",
       "      <td>57</td>\n",
       "      <td>1</td>\n",
       "      <td>999</td>\n",
       "      <td>0</td>\n",
       "      <td>1.1</td>\n",
       "      <td>93.994</td>\n",
       "      <td>-36.4</td>\n",
       "      <td>4.857</td>\n",
       "      <td>5191.0</td>\n",
       "      <td>no</td>\n",
       "      <td>...</td>\n",
       "      <td>0</td>\n",
       "      <td>0</td>\n",
       "      <td>0</td>\n",
       "      <td>1</td>\n",
       "      <td>0</td>\n",
       "      <td>0</td>\n",
       "      <td>0</td>\n",
       "      <td>0</td>\n",
       "      <td>1</td>\n",
       "      <td>0</td>\n",
       "    </tr>\n",
       "    <tr>\n",
       "      <th>2</th>\n",
       "      <td>37</td>\n",
       "      <td>1</td>\n",
       "      <td>999</td>\n",
       "      <td>0</td>\n",
       "      <td>1.1</td>\n",
       "      <td>93.994</td>\n",
       "      <td>-36.4</td>\n",
       "      <td>4.857</td>\n",
       "      <td>5191.0</td>\n",
       "      <td>no</td>\n",
       "      <td>...</td>\n",
       "      <td>0</td>\n",
       "      <td>0</td>\n",
       "      <td>0</td>\n",
       "      <td>1</td>\n",
       "      <td>0</td>\n",
       "      <td>0</td>\n",
       "      <td>0</td>\n",
       "      <td>0</td>\n",
       "      <td>1</td>\n",
       "      <td>0</td>\n",
       "    </tr>\n",
       "    <tr>\n",
       "      <th>3</th>\n",
       "      <td>40</td>\n",
       "      <td>1</td>\n",
       "      <td>999</td>\n",
       "      <td>0</td>\n",
       "      <td>1.1</td>\n",
       "      <td>93.994</td>\n",
       "      <td>-36.4</td>\n",
       "      <td>4.857</td>\n",
       "      <td>5191.0</td>\n",
       "      <td>no</td>\n",
       "      <td>...</td>\n",
       "      <td>0</td>\n",
       "      <td>0</td>\n",
       "      <td>0</td>\n",
       "      <td>1</td>\n",
       "      <td>0</td>\n",
       "      <td>0</td>\n",
       "      <td>0</td>\n",
       "      <td>0</td>\n",
       "      <td>1</td>\n",
       "      <td>0</td>\n",
       "    </tr>\n",
       "    <tr>\n",
       "      <th>4</th>\n",
       "      <td>56</td>\n",
       "      <td>1</td>\n",
       "      <td>999</td>\n",
       "      <td>0</td>\n",
       "      <td>1.1</td>\n",
       "      <td>93.994</td>\n",
       "      <td>-36.4</td>\n",
       "      <td>4.857</td>\n",
       "      <td>5191.0</td>\n",
       "      <td>no</td>\n",
       "      <td>...</td>\n",
       "      <td>0</td>\n",
       "      <td>0</td>\n",
       "      <td>0</td>\n",
       "      <td>1</td>\n",
       "      <td>0</td>\n",
       "      <td>0</td>\n",
       "      <td>0</td>\n",
       "      <td>0</td>\n",
       "      <td>1</td>\n",
       "      <td>0</td>\n",
       "    </tr>\n",
       "  </tbody>\n",
       "</table>\n",
       "<p>5 rows × 63 columns</p>\n",
       "</div>"
      ],
      "text/plain": [
       "   age  campaign  pdays  previous  emp.var.rate  cons.price.idx  \\\n",
       "0   56         1    999         0           1.1          93.994   \n",
       "1   57         1    999         0           1.1          93.994   \n",
       "2   37         1    999         0           1.1          93.994   \n",
       "3   40         1    999         0           1.1          93.994   \n",
       "4   56         1    999         0           1.1          93.994   \n",
       "\n",
       "   cons.conf.idx  euribor3m  nr.employed   y  ...  month_oct  month_sep  \\\n",
       "0          -36.4      4.857       5191.0  no  ...          0          0   \n",
       "1          -36.4      4.857       5191.0  no  ...          0          0   \n",
       "2          -36.4      4.857       5191.0  no  ...          0          0   \n",
       "3          -36.4      4.857       5191.0  no  ...          0          0   \n",
       "4          -36.4      4.857       5191.0  no  ...          0          0   \n",
       "\n",
       "   day_of_week_fri  day_of_week_mon  day_of_week_thu  day_of_week_tue  \\\n",
       "0                0                1                0                0   \n",
       "1                0                1                0                0   \n",
       "2                0                1                0                0   \n",
       "3                0                1                0                0   \n",
       "4                0                1                0                0   \n",
       "\n",
       "   day_of_week_wed  poutcome_failure  poutcome_nonexistent  poutcome_success  \n",
       "0                0                 0                     1                 0  \n",
       "1                0                 0                     1                 0  \n",
       "2                0                 0                     1                 0  \n",
       "3                0                 0                     1                 0  \n",
       "4                0                 0                     1                 0  \n",
       "\n",
       "[5 rows x 63 columns]"
      ]
     },
     "metadata": {},
     "execution_count": 13
    }
   ],
   "metadata": {
    "colab": {
     "base_uri": "https://localhost:8080/",
     "height": 241
    },
    "id": "-r6TmlKPsAnD",
    "outputId": "40410277-ebc0-4eec-ffc7-ed468a7178d7"
   }
  },
  {
   "cell_type": "code",
   "execution_count": 14,
   "source": [
    "d = d.sample(frac = 1)"
   ],
   "outputs": [],
   "metadata": {
    "id": "UGqo0oAAnbMY"
   }
  },
  {
   "cell_type": "code",
   "execution_count": 15,
   "source": [
    "d = pd.get_dummies(d,columns = ['y'],drop_first = True)"
   ],
   "outputs": [],
   "metadata": {
    "id": "6W6rAD7vv68S"
   }
  },
  {
   "cell_type": "code",
   "execution_count": 16,
   "source": [
    "d = d.rename(columns={'y_yes':'y'})"
   ],
   "outputs": [],
   "metadata": {
    "id": "0sLb_Ieywz56"
   }
  },
  {
   "cell_type": "code",
   "execution_count": 17,
   "source": [
    "d.head()"
   ],
   "outputs": [
    {
     "output_type": "execute_result",
     "data": {
      "text/html": [
       "<div>\n",
       "<style scoped>\n",
       "    .dataframe tbody tr th:only-of-type {\n",
       "        vertical-align: middle;\n",
       "    }\n",
       "\n",
       "    .dataframe tbody tr th {\n",
       "        vertical-align: top;\n",
       "    }\n",
       "\n",
       "    .dataframe thead th {\n",
       "        text-align: right;\n",
       "    }\n",
       "</style>\n",
       "<table border=\"1\" class=\"dataframe\">\n",
       "  <thead>\n",
       "    <tr style=\"text-align: right;\">\n",
       "      <th></th>\n",
       "      <th>age</th>\n",
       "      <th>campaign</th>\n",
       "      <th>pdays</th>\n",
       "      <th>previous</th>\n",
       "      <th>emp.var.rate</th>\n",
       "      <th>cons.price.idx</th>\n",
       "      <th>cons.conf.idx</th>\n",
       "      <th>euribor3m</th>\n",
       "      <th>nr.employed</th>\n",
       "      <th>job_admin.</th>\n",
       "      <th>...</th>\n",
       "      <th>month_sep</th>\n",
       "      <th>day_of_week_fri</th>\n",
       "      <th>day_of_week_mon</th>\n",
       "      <th>day_of_week_thu</th>\n",
       "      <th>day_of_week_tue</th>\n",
       "      <th>day_of_week_wed</th>\n",
       "      <th>poutcome_failure</th>\n",
       "      <th>poutcome_nonexistent</th>\n",
       "      <th>poutcome_success</th>\n",
       "      <th>y</th>\n",
       "    </tr>\n",
       "  </thead>\n",
       "  <tbody>\n",
       "    <tr>\n",
       "      <th>8546</th>\n",
       "      <td>46</td>\n",
       "      <td>10</td>\n",
       "      <td>999</td>\n",
       "      <td>0</td>\n",
       "      <td>1.4</td>\n",
       "      <td>94.465</td>\n",
       "      <td>-41.8</td>\n",
       "      <td>4.864</td>\n",
       "      <td>5228.1</td>\n",
       "      <td>1</td>\n",
       "      <td>...</td>\n",
       "      <td>0</td>\n",
       "      <td>0</td>\n",
       "      <td>0</td>\n",
       "      <td>0</td>\n",
       "      <td>0</td>\n",
       "      <td>1</td>\n",
       "      <td>0</td>\n",
       "      <td>1</td>\n",
       "      <td>0</td>\n",
       "      <td>0</td>\n",
       "    </tr>\n",
       "    <tr>\n",
       "      <th>36678</th>\n",
       "      <td>51</td>\n",
       "      <td>1</td>\n",
       "      <td>999</td>\n",
       "      <td>0</td>\n",
       "      <td>-2.9</td>\n",
       "      <td>92.963</td>\n",
       "      <td>-40.8</td>\n",
       "      <td>1.268</td>\n",
       "      <td>5076.2</td>\n",
       "      <td>0</td>\n",
       "      <td>...</td>\n",
       "      <td>0</td>\n",
       "      <td>1</td>\n",
       "      <td>0</td>\n",
       "      <td>0</td>\n",
       "      <td>0</td>\n",
       "      <td>0</td>\n",
       "      <td>0</td>\n",
       "      <td>1</td>\n",
       "      <td>0</td>\n",
       "      <td>1</td>\n",
       "    </tr>\n",
       "    <tr>\n",
       "      <th>39494</th>\n",
       "      <td>57</td>\n",
       "      <td>2</td>\n",
       "      <td>999</td>\n",
       "      <td>0</td>\n",
       "      <td>-1.8</td>\n",
       "      <td>93.749</td>\n",
       "      <td>-34.6</td>\n",
       "      <td>0.644</td>\n",
       "      <td>5008.7</td>\n",
       "      <td>0</td>\n",
       "      <td>...</td>\n",
       "      <td>0</td>\n",
       "      <td>0</td>\n",
       "      <td>0</td>\n",
       "      <td>1</td>\n",
       "      <td>0</td>\n",
       "      <td>0</td>\n",
       "      <td>0</td>\n",
       "      <td>1</td>\n",
       "      <td>0</td>\n",
       "      <td>1</td>\n",
       "    </tr>\n",
       "    <tr>\n",
       "      <th>10391</th>\n",
       "      <td>45</td>\n",
       "      <td>1</td>\n",
       "      <td>999</td>\n",
       "      <td>0</td>\n",
       "      <td>1.4</td>\n",
       "      <td>94.465</td>\n",
       "      <td>-41.8</td>\n",
       "      <td>4.960</td>\n",
       "      <td>5228.1</td>\n",
       "      <td>1</td>\n",
       "      <td>...</td>\n",
       "      <td>0</td>\n",
       "      <td>0</td>\n",
       "      <td>1</td>\n",
       "      <td>0</td>\n",
       "      <td>0</td>\n",
       "      <td>0</td>\n",
       "      <td>0</td>\n",
       "      <td>1</td>\n",
       "      <td>0</td>\n",
       "      <td>0</td>\n",
       "    </tr>\n",
       "    <tr>\n",
       "      <th>31032</th>\n",
       "      <td>33</td>\n",
       "      <td>2</td>\n",
       "      <td>999</td>\n",
       "      <td>1</td>\n",
       "      <td>-1.8</td>\n",
       "      <td>92.893</td>\n",
       "      <td>-46.2</td>\n",
       "      <td>1.344</td>\n",
       "      <td>5099.1</td>\n",
       "      <td>0</td>\n",
       "      <td>...</td>\n",
       "      <td>0</td>\n",
       "      <td>0</td>\n",
       "      <td>0</td>\n",
       "      <td>0</td>\n",
       "      <td>1</td>\n",
       "      <td>0</td>\n",
       "      <td>1</td>\n",
       "      <td>0</td>\n",
       "      <td>0</td>\n",
       "      <td>0</td>\n",
       "    </tr>\n",
       "  </tbody>\n",
       "</table>\n",
       "<p>5 rows × 63 columns</p>\n",
       "</div>"
      ],
      "text/plain": [
       "       age  campaign  pdays  previous  emp.var.rate  cons.price.idx  \\\n",
       "8546    46        10    999         0           1.4          94.465   \n",
       "36678   51         1    999         0          -2.9          92.963   \n",
       "39494   57         2    999         0          -1.8          93.749   \n",
       "10391   45         1    999         0           1.4          94.465   \n",
       "31032   33         2    999         1          -1.8          92.893   \n",
       "\n",
       "       cons.conf.idx  euribor3m  nr.employed  job_admin.  ...  month_sep  \\\n",
       "8546           -41.8      4.864       5228.1           1  ...          0   \n",
       "36678          -40.8      1.268       5076.2           0  ...          0   \n",
       "39494          -34.6      0.644       5008.7           0  ...          0   \n",
       "10391          -41.8      4.960       5228.1           1  ...          0   \n",
       "31032          -46.2      1.344       5099.1           0  ...          0   \n",
       "\n",
       "       day_of_week_fri  day_of_week_mon  day_of_week_thu  day_of_week_tue  \\\n",
       "8546                 0                0                0                0   \n",
       "36678                1                0                0                0   \n",
       "39494                0                0                1                0   \n",
       "10391                0                1                0                0   \n",
       "31032                0                0                0                1   \n",
       "\n",
       "       day_of_week_wed  poutcome_failure  poutcome_nonexistent  \\\n",
       "8546                 1                 0                     1   \n",
       "36678                0                 0                     1   \n",
       "39494                0                 0                     1   \n",
       "10391                0                 0                     1   \n",
       "31032                0                 1                     0   \n",
       "\n",
       "       poutcome_success  y  \n",
       "8546                  0  0  \n",
       "36678                 0  1  \n",
       "39494                 0  1  \n",
       "10391                 0  0  \n",
       "31032                 0  0  \n",
       "\n",
       "[5 rows x 63 columns]"
      ]
     },
     "metadata": {},
     "execution_count": 17
    }
   ],
   "metadata": {
    "colab": {
     "base_uri": "https://localhost:8080/",
     "height": 241
    },
    "id": "X04PNAGQx1hZ",
    "outputId": "279bd92a-328e-4e93-a06b-4f0172b64a0c"
   }
  },
  {
   "cell_type": "code",
   "execution_count": 18,
   "source": [
    "def tts(data):\n",
    "  size = len(data)\n",
    "  train_test_margin = int(0.7*size)\n",
    "\n",
    "  trainSet = data[:train_test_margin]\n",
    "  testSet = data[train_test_margin:]\n",
    "\n",
    "  trainSet_x = trainSet.drop(\"y\",axis=1)\n",
    "  trainSet_y = trainSet[\"y\"]\n",
    "  testSet_x = testSet.drop(\"y\",axis=1)\n",
    "  testSet_y = testSet[\"y\"]\n",
    "\n",
    "  return trainSet_x,trainSet_y,testSet_x,testSet_y"
   ],
   "outputs": [],
   "metadata": {
    "id": "6IGXse2b2f7K"
   }
  },
  {
   "cell_type": "code",
   "execution_count": 19,
   "source": [
    "trainSet_x,trainSet_y,testSet_x,testSet_y = tts(d)"
   ],
   "outputs": [],
   "metadata": {
    "id": "knnXPhvNUaGA"
   }
  },
  {
   "cell_type": "code",
   "execution_count": null,
   "source": [],
   "outputs": [],
   "metadata": {
    "id": "M-HBicXH4esk"
   }
  },
  {
   "cell_type": "code",
   "execution_count": 20,
   "source": [
    "from sklearn.tree import DecisionTreeClassifier\n",
    "model = DecisionTreeClassifier()\n",
    "classification = model.fit(trainSet_x,trainSet_y)\n",
    "predictions = model.predict(testSet_x)\n",
    "predictions"
   ],
   "outputs": [
    {
     "output_type": "execute_result",
     "data": {
      "text/plain": [
       "array([0, 0, 0, ..., 0, 0, 0], dtype=uint8)"
      ]
     },
     "metadata": {},
     "execution_count": 20
    }
   ],
   "metadata": {
    "colab": {
     "base_uri": "https://localhost:8080/"
    },
    "id": "fRlV56C7UZ7i",
    "outputId": "ce6c0a01-2745-47a2-ef78-f06ab326da59"
   }
  },
  {
   "cell_type": "code",
   "execution_count": 21,
   "source": [
    "def acc_(predictions,testSet_y):\n",
    "  test_size = len(testSet_y)\n",
    "  testSet_y = list(testSet_y)\n",
    "  correct_predictions = 0\n",
    "  for i in range(test_size):\n",
    "    if testSet_y[i]==predictions[i]:\n",
    "      correct_predictions= correct_predictions+1\n",
    "  return (correct_predictions/test_size)*100\n"
   ],
   "outputs": [],
   "metadata": {
    "id": "H5tQXwVEUZ17"
   }
  },
  {
   "cell_type": "code",
   "execution_count": 22,
   "source": [
    "acc_(predictions,testSet_y)"
   ],
   "outputs": [
    {
     "output_type": "execute_result",
     "data": {
      "text/plain": [
       "84.00906368859755"
      ]
     },
     "metadata": {},
     "execution_count": 22
    }
   ],
   "metadata": {
    "colab": {
     "base_uri": "https://localhost:8080/"
    },
    "id": "t72zMU-5UZxL",
    "outputId": "4166391f-9339-4800-d817-3752189d7682"
   }
  },
  {
   "cell_type": "code",
   "execution_count": null,
   "source": [],
   "outputs": [],
   "metadata": {
    "id": "m_YM3S_3UZr6"
   }
  },
  {
   "cell_type": "code",
   "execution_count": 23,
   "source": [
    "predictions_trainset = model.predict(trainSet_x)"
   ],
   "outputs": [],
   "metadata": {
    "id": "oWkGLNuX4AzM"
   }
  },
  {
   "cell_type": "code",
   "execution_count": null,
   "source": [],
   "outputs": [],
   "metadata": {
    "id": "fOUhp_lNUZnJ"
   }
  },
  {
   "cell_type": "code",
   "execution_count": 24,
   "source": [
    "from sklearn.metrics import classification_report,plot_confusion_matrix"
   ],
   "outputs": [],
   "metadata": {
    "id": "Aap9TA63UZiQ"
   }
  },
  {
   "cell_type": "code",
   "execution_count": 25,
   "source": [
    "print(classification_report(testSet_y,predictions))"
   ],
   "outputs": [
    {
     "output_type": "stream",
     "name": "stdout",
     "text": [
      "              precision    recall  f1-score   support\n",
      "\n",
      "           0       0.92      0.90      0.91     10960\n",
      "           1       0.31      0.34      0.33      1397\n",
      "\n",
      "    accuracy                           0.84     12357\n",
      "   macro avg       0.61      0.62      0.62     12357\n",
      "weighted avg       0.85      0.84      0.84     12357\n",
      "\n"
     ]
    }
   ],
   "metadata": {
    "colab": {
     "base_uri": "https://localhost:8080/"
    },
    "id": "tP-e2wh_UZde",
    "outputId": "27096695-2ebb-4e19-82b8-9c6f037e3818"
   }
  },
  {
   "cell_type": "code",
   "execution_count": 26,
   "source": [
    "# #overfitting check\n",
    "# print(classification_report(trainSet_y,predictions_trainset))\n",
    "\n",
    "\n",
    "# cm_t = plot_confusion_matrix(model, trainSet_x, trainSet_y,\n",
    "#                                  display_labels=('no','yes'),\n",
    "#                                  cmap=plt.cm.Blues,\n",
    "#                                  )\n",
    "# cm_t.ax_.set_title('Normalized Confusion Matrix')\n",
    "\n",
    "# print('Normalized Confusion Matrix')\n",
    "# conf_train = cm_t.confusion_matrix\n",
    "# print(conf_train)\n",
    "# plt.show\n",
    "\n",
    "\n",
    "# print((conf_train[0][0]+conf_train[1][1])/trainSet_y.size)"
   ],
   "outputs": [],
   "metadata": {
    "id": "cTbsPLtK4KW3"
   }
  },
  {
   "cell_type": "code",
   "execution_count": 27,
   "source": [
    "plot_confusion_matrix(model,testSet_x,testSet_y)"
   ],
   "outputs": [
    {
     "output_type": "execute_result",
     "data": {
      "text/plain": [
       "<sklearn.metrics._plot.confusion_matrix.ConfusionMatrixDisplay at 0x7fcc6ad20ee0>"
      ]
     },
     "metadata": {},
     "execution_count": 27
    },
    {
     "output_type": "display_data",
     "data": {
      "image/png": "[encoded data removed]",
      "text/plain": [
       "<Figure size 432x288 with 2 Axes>"
      ]
     },
     "metadata": {
      "needs_background": "light"
     }
    }
   ],
   "metadata": {
    "colab": {
     "base_uri": "https://localhost:8080/",
     "height": 296
    },
    "id": "91CTI89IUZYa",
    "outputId": "0577f7e0-e27b-4a86-8d6a-30328f2f5dbc"
   }
  },
  {
   "cell_type": "code",
   "execution_count": 28,
   "source": [
    "cm = plot_confusion_matrix(model, testSet_x, testSet_y,\n",
    "                                 display_labels=('no','yes'),\n",
    "                                 cmap=plt.cm.Blues,\n",
    "                                 )\n",
    "cm.ax_.set_title('Normalized Confusion Matrix')\n",
    "\n",
    "print('Normalized Confusion Matrix')\n",
    "conf = cm.confusion_matrix\n",
    "print(conf)\n",
    "plt.show"
   ],
   "outputs": [
    {
     "output_type": "stream",
     "name": "stdout",
     "text": [
      "Normalized Confusion Matrix\n",
      "[[9900 1060]\n",
      " [ 916  481]]\n"
     ]
    },
    {
     "output_type": "execute_result",
     "data": {
      "text/plain": [
       "<function matplotlib.pyplot.show(close=None, block=None)>"
      ]
     },
     "metadata": {},
     "execution_count": 28
    },
    {
     "output_type": "display_data",
     "data": {
      "image/png": "[encoded data removed]",
      "text/plain": [
       "<Figure size 432x288 with 2 Axes>"
      ]
     },
     "metadata": {
      "needs_background": "light"
     }
    }
   ],
   "metadata": {
    "colab": {
     "base_uri": "https://localhost:8080/",
     "height": 363
    },
    "id": "I3W25zJhUZTN",
    "outputId": "88f91024-cd59-49eb-c563-8d5a21720bbe"
   }
  },
  {
   "cell_type": "code",
   "execution_count": 29,
   "source": [
    "#(conf[0][0]+conf[1][1])/testSet_y.size"
   ],
   "outputs": [],
   "metadata": {
    "id": "eh1XdYLz1A9J"
   }
  },
  {
   "cell_type": "code",
   "execution_count": 30,
   "source": [
    "#help(sklearn.tree._tree.Tree)"
   ],
   "outputs": [],
   "metadata": {
    "id": "GppDmINRUZOl"
   }
  },
  {
   "cell_type": "code",
   "execution_count": 31,
   "source": [
    "from sklearn.tree._tree import TREE_LEAF"
   ],
   "outputs": [],
   "metadata": {
    "id": "AhBFi0ZdNPwi"
   }
  },
  {
   "cell_type": "code",
   "execution_count": 32,
   "source": [
    "c = classification"
   ],
   "outputs": [],
   "metadata": {
    "id": "8uw-hWSSUZKH"
   }
  },
  {
   "cell_type": "code",
   "execution_count": 33,
   "source": [
    "# leaves_l = []\n",
    "\n",
    "# for i in range(len(lc)):\n",
    "#   if lc[i] == TREE_LEAF:\n",
    "#     leaves_l.append(i)"
   ],
   "outputs": [],
   "metadata": {
    "id": "5qFzM73-FVL8"
   }
  },
  {
   "cell_type": "code",
   "execution_count": 34,
   "source": [
    "# leaves_r= []\n",
    "\n",
    "# for i in range(len(lc)):\n",
    "#   if lc[i] == TREE_LEAF:\n",
    "#     leaves_r.append(i)"
   ],
   "outputs": [],
   "metadata": {
    "id": "sadDhMheHUJN"
   }
  },
  {
   "cell_type": "code",
   "execution_count": 35,
   "source": [
    "# set(leaves_l)==set(leaves_r)"
   ],
   "outputs": [],
   "metadata": {
    "id": "sYZimW9sMlsI"
   }
  },
  {
   "cell_type": "code",
   "execution_count": 36,
   "source": [
    "def sum_of_impurity_leaves(decision_tree_classification_summary,size):\n",
    "  c = decision_tree_classification_summary\n",
    "  leaves= []\n",
    "  sum = 0\n",
    "  w = c.tree_.n_node_samples\n",
    "  lc = c.tree_.children_left\n",
    "  for i in range(len(lc)):\n",
    "    if c.tree_.children_left[i] == TREE_LEAF:\n",
    "      p = w[i]/size\n",
    "      sum = sum + c.tree_.impurity[i]*p\n",
    "  return sum\n",
    "\n"
   ],
   "outputs": [],
   "metadata": {
    "id": "9_bnX4SCOV2e"
   }
  },
  {
   "cell_type": "code",
   "execution_count": null,
   "source": [],
   "outputs": [],
   "metadata": {
    "colab": {
     "base_uri": "https://localhost:8080/"
    },
    "id": "AwTsEIo8R0JE",
    "outputId": "b7eaed56-8ee4-4c01-8123-9a2bd486afbb"
   }
  },
  {
   "cell_type": "code",
   "execution_count": null,
   "source": [],
   "outputs": [],
   "metadata": {
    "id": "YjohZqWIR4kv"
   }
  },
  {
   "cell_type": "code",
   "execution_count": 37,
   "source": [
    "def grid_search(c_alphas,trainSet_x,trainSet_y,testSet_x,testSet_y):\n",
    "  \n",
    "  best = 0\n",
    "  best_alpha = 0\n",
    "  best_classification = None\n",
    "  sum_of_impurities = []\n",
    "  accuracies_tr = []\n",
    "  accuracies_ts = []\n",
    "\n",
    "  for a in c_alphas:\n",
    "\n",
    "    model = DecisionTreeClassifier(ccp_alpha=a)\n",
    "    c = model.fit(trainSet_x,trainSet_y)\n",
    "    predictions_ts = model.predict(testSet_x)\n",
    "    predictions_tr = model.predict(trainSet_x)\n",
    "\n",
    "    sum_of_impurities.append(sum_of_impurity_leaves(c,trainSet_y.size))\n",
    "    accuracy_ts = acc_(predictions_ts,testSet_y)\n",
    "    accuracy_tr = acc_(predictions_tr,trainSet_y)\n",
    "#     print(a)\n",
    "#     print(accuracy_ts)\n",
    "#     print(accuracy_tr)\n",
    "    accuracies_ts.append(accuracy_ts)\n",
    "    accuracies_tr.append(accuracy_tr)\n",
    "\n",
    "\n",
    "    if accuracy_ts > best:\n",
    "      best = accuracy_ts \n",
    "      best_alpha = a\n",
    "      best_classification = c\n",
    "\n",
    "    gridsearch_results = pd.DataFrame(list(zip(alphas,accuracies_tr,accuracies_ts,sum_of_impurities)),\n",
    "               columns =['Alphas','Training Accuracy', 'Testing Accuracy', 'Sum of Impurities'])\n",
    "\n",
    "  return best_alpha,best_classification,gridsearch_results\n"
   ],
   "outputs": [],
   "metadata": {
    "id": "xN3-gEWrSpBx"
   }
  },
  {
   "cell_type": "code",
   "execution_count": 38,
   "source": [
    "alphas = np.arange(0,0.04,0.0001)"
   ],
   "outputs": [],
   "metadata": {
    "id": "AT93khK9WueP"
   }
  },
  {
   "cell_type": "code",
   "execution_count": 39,
   "source": [
    "alphas"
   ],
   "outputs": [
    {
     "output_type": "execute_result",
     "data": {
      "text/plain": [
       "array([0.    , 0.0001, 0.0002, 0.0003, 0.0004, 0.0005, 0.0006, 0.0007,\n",
       "       0.0008, 0.0009, 0.001 , 0.0011, 0.0012, 0.0013, 0.0014, 0.0015,\n",
       "       0.0016, 0.0017, 0.0018, 0.0019, 0.002 , 0.0021, 0.0022, 0.0023,\n",
       "       0.0024, 0.0025, 0.0026, 0.0027, 0.0028, 0.0029, 0.003 , 0.0031,\n",
       "       0.0032, 0.0033, 0.0034, 0.0035, 0.0036, 0.0037, 0.0038, 0.0039,\n",
       "       0.004 , 0.0041, 0.0042, 0.0043, 0.0044, 0.0045, 0.0046, 0.0047,\n",
       "       0.0048, 0.0049, 0.005 , 0.0051, 0.0052, 0.0053, 0.0054, 0.0055,\n",
       "       0.0056, 0.0057, 0.0058, 0.0059, 0.006 , 0.0061, 0.0062, 0.0063,\n",
       "       0.0064, 0.0065, 0.0066, 0.0067, 0.0068, 0.0069, 0.007 , 0.0071,\n",
       "       0.0072, 0.0073, 0.0074, 0.0075, 0.0076, 0.0077, 0.0078, 0.0079,\n",
       "       0.008 , 0.0081, 0.0082, 0.0083, 0.0084, 0.0085, 0.0086, 0.0087,\n",
       "       0.0088, 0.0089, 0.009 , 0.0091, 0.0092, 0.0093, 0.0094, 0.0095,\n",
       "       0.0096, 0.0097, 0.0098, 0.0099, 0.01  , 0.0101, 0.0102, 0.0103,\n",
       "       0.0104, 0.0105, 0.0106, 0.0107, 0.0108, 0.0109, 0.011 , 0.0111,\n",
       "       0.0112, 0.0113, 0.0114, 0.0115, 0.0116, 0.0117, 0.0118, 0.0119,\n",
       "       0.012 , 0.0121, 0.0122, 0.0123, 0.0124, 0.0125, 0.0126, 0.0127,\n",
       "       0.0128, 0.0129, 0.013 , 0.0131, 0.0132, 0.0133, 0.0134, 0.0135,\n",
       "       0.0136, 0.0137, 0.0138, 0.0139, 0.014 , 0.0141, 0.0142, 0.0143,\n",
       "       0.0144, 0.0145, 0.0146, 0.0147, 0.0148, 0.0149, 0.015 , 0.0151,\n",
       "       0.0152, 0.0153, 0.0154, 0.0155, 0.0156, 0.0157, 0.0158, 0.0159,\n",
       "       0.016 , 0.0161, 0.0162, 0.0163, 0.0164, 0.0165, 0.0166, 0.0167,\n",
       "       0.0168, 0.0169, 0.017 , 0.0171, 0.0172, 0.0173, 0.0174, 0.0175,\n",
       "       0.0176, 0.0177, 0.0178, 0.0179, 0.018 , 0.0181, 0.0182, 0.0183,\n",
       "       0.0184, 0.0185, 0.0186, 0.0187, 0.0188, 0.0189, 0.019 , 0.0191,\n",
       "       0.0192, 0.0193, 0.0194, 0.0195, 0.0196, 0.0197, 0.0198, 0.0199,\n",
       "       0.02  , 0.0201, 0.0202, 0.0203, 0.0204, 0.0205, 0.0206, 0.0207,\n",
       "       0.0208, 0.0209, 0.021 , 0.0211, 0.0212, 0.0213, 0.0214, 0.0215,\n",
       "       0.0216, 0.0217, 0.0218, 0.0219, 0.022 , 0.0221, 0.0222, 0.0223,\n",
       "       0.0224, 0.0225, 0.0226, 0.0227, 0.0228, 0.0229, 0.023 , 0.0231,\n",
       "       0.0232, 0.0233, 0.0234, 0.0235, 0.0236, 0.0237, 0.0238, 0.0239,\n",
       "       0.024 , 0.0241, 0.0242, 0.0243, 0.0244, 0.0245, 0.0246, 0.0247,\n",
       "       0.0248, 0.0249, 0.025 , 0.0251, 0.0252, 0.0253, 0.0254, 0.0255,\n",
       "       0.0256, 0.0257, 0.0258, 0.0259, 0.026 , 0.0261, 0.0262, 0.0263,\n",
       "       0.0264, 0.0265, 0.0266, 0.0267, 0.0268, 0.0269, 0.027 , 0.0271,\n",
       "       0.0272, 0.0273, 0.0274, 0.0275, 0.0276, 0.0277, 0.0278, 0.0279,\n",
       "       0.028 , 0.0281, 0.0282, 0.0283, 0.0284, 0.0285, 0.0286, 0.0287,\n",
       "       0.0288, 0.0289, 0.029 , 0.0291, 0.0292, 0.0293, 0.0294, 0.0295,\n",
       "       0.0296, 0.0297, 0.0298, 0.0299, 0.03  , 0.0301, 0.0302, 0.0303,\n",
       "       0.0304, 0.0305, 0.0306, 0.0307, 0.0308, 0.0309, 0.031 , 0.0311,\n",
       "       0.0312, 0.0313, 0.0314, 0.0315, 0.0316, 0.0317, 0.0318, 0.0319,\n",
       "       0.032 , 0.0321, 0.0322, 0.0323, 0.0324, 0.0325, 0.0326, 0.0327,\n",
       "       0.0328, 0.0329, 0.033 , 0.0331, 0.0332, 0.0333, 0.0334, 0.0335,\n",
       "       0.0336, 0.0337, 0.0338, 0.0339, 0.034 , 0.0341, 0.0342, 0.0343,\n",
       "       0.0344, 0.0345, 0.0346, 0.0347, 0.0348, 0.0349, 0.035 , 0.0351,\n",
       "       0.0352, 0.0353, 0.0354, 0.0355, 0.0356, 0.0357, 0.0358, 0.0359,\n",
       "       0.036 , 0.0361, 0.0362, 0.0363, 0.0364, 0.0365, 0.0366, 0.0367,\n",
       "       0.0368, 0.0369, 0.037 , 0.0371, 0.0372, 0.0373, 0.0374, 0.0375,\n",
       "       0.0376, 0.0377, 0.0378, 0.0379, 0.038 , 0.0381, 0.0382, 0.0383,\n",
       "       0.0384, 0.0385, 0.0386, 0.0387, 0.0388, 0.0389, 0.039 , 0.0391,\n",
       "       0.0392, 0.0393, 0.0394, 0.0395, 0.0396, 0.0397, 0.0398, 0.0399])"
      ]
     },
     "metadata": {},
     "execution_count": 39
    }
   ],
   "metadata": {
    "colab": {
     "base_uri": "https://localhost:8080/"
    },
    "id": "6gZrB8SMW87p",
    "outputId": "c7bb05e2-051b-448b-a9b1-6c8e5bee2b3e"
   }
  },
  {
   "cell_type": "code",
   "execution_count": 40,
   "source": [
    "\n",
    "\n",
    "#alphas = [0.0001,0.0002,0.0003,0.0004,0.0005,0.0006,0.0007,0.0008,0.0009,0.001,0.005,0.009,0.01,0.015,0.02,0.025,0.03,0.04,0.05,0.06,0.07,0.08,0.09,0.1]\n",
    "\n",
    "a, clf,r = grid_search(alphas,trainSet_x,trainSet_y,testSet_x,testSet_y)"
   ],
   "outputs": [],
   "metadata": {
    "colab": {
     "base_uri": "https://localhost:8080/",
     "height": 358
    },
    "id": "oUkiDrOmX_XI",
    "outputId": "b6fb2916-a54d-4df4-dd33-84b7af1d3ab9"
   }
  },
  {
   "cell_type": "code",
   "execution_count": 41,
   "source": [
    "max(r['Testing Accuracy'])"
   ],
   "outputs": [
    {
     "output_type": "execute_result",
     "data": {
      "text/plain": [
       "89.8761835396941"
      ]
     },
     "metadata": {},
     "execution_count": 41
    }
   ],
   "metadata": {
    "id": "zB32rKf8_mTE"
   }
  },
  {
   "cell_type": "code",
   "execution_count": 42,
   "source": [
    "r"
   ],
   "outputs": [
    {
     "output_type": "execute_result",
     "data": {
      "text/html": [
       "<div>\n",
       "<style scoped>\n",
       "    .dataframe tbody tr th:only-of-type {\n",
       "        vertical-align: middle;\n",
       "    }\n",
       "\n",
       "    .dataframe tbody tr th {\n",
       "        vertical-align: top;\n",
       "    }\n",
       "\n",
       "    .dataframe thead th {\n",
       "        text-align: right;\n",
       "    }\n",
       "</style>\n",
       "<table border=\"1\" class=\"dataframe\">\n",
       "  <thead>\n",
       "    <tr style=\"text-align: right;\">\n",
       "      <th></th>\n",
       "      <th>Alphas</th>\n",
       "      <th>Training Accuracy</th>\n",
       "      <th>Testing Accuracy</th>\n",
       "      <th>Sum of Impurities</th>\n",
       "    </tr>\n",
       "  </thead>\n",
       "  <tbody>\n",
       "    <tr>\n",
       "      <th>0</th>\n",
       "      <td>0.0000</td>\n",
       "      <td>99.524817</td>\n",
       "      <td>84.138545</td>\n",
       "      <td>0.004954</td>\n",
       "    </tr>\n",
       "    <tr>\n",
       "      <th>1</th>\n",
       "      <td>0.0001</td>\n",
       "      <td>90.825847</td>\n",
       "      <td>89.503925</td>\n",
       "      <td>0.145934</td>\n",
       "    </tr>\n",
       "    <tr>\n",
       "      <th>2</th>\n",
       "      <td>0.0002</td>\n",
       "      <td>90.270889</td>\n",
       "      <td>89.795258</td>\n",
       "      <td>0.151913</td>\n",
       "    </tr>\n",
       "    <tr>\n",
       "      <th>3</th>\n",
       "      <td>0.0003</td>\n",
       "      <td>90.267420</td>\n",
       "      <td>89.843813</td>\n",
       "      <td>0.152820</td>\n",
       "    </tr>\n",
       "    <tr>\n",
       "      <th>4</th>\n",
       "      <td>0.0004</td>\n",
       "      <td>90.232736</td>\n",
       "      <td>89.819535</td>\n",
       "      <td>0.154672</td>\n",
       "    </tr>\n",
       "    <tr>\n",
       "      <th>...</th>\n",
       "      <td>...</td>\n",
       "      <td>...</td>\n",
       "      <td>...</td>\n",
       "      <td>...</td>\n",
       "    </tr>\n",
       "    <tr>\n",
       "      <th>395</th>\n",
       "      <td>0.0395</td>\n",
       "      <td>88.751691</td>\n",
       "      <td>88.694667</td>\n",
       "      <td>0.199661</td>\n",
       "    </tr>\n",
       "    <tr>\n",
       "      <th>396</th>\n",
       "      <td>0.0396</td>\n",
       "      <td>88.751691</td>\n",
       "      <td>88.694667</td>\n",
       "      <td>0.199661</td>\n",
       "    </tr>\n",
       "    <tr>\n",
       "      <th>397</th>\n",
       "      <td>0.0397</td>\n",
       "      <td>88.751691</td>\n",
       "      <td>88.694667</td>\n",
       "      <td>0.199661</td>\n",
       "    </tr>\n",
       "    <tr>\n",
       "      <th>398</th>\n",
       "      <td>0.0398</td>\n",
       "      <td>88.751691</td>\n",
       "      <td>88.694667</td>\n",
       "      <td>0.199661</td>\n",
       "    </tr>\n",
       "    <tr>\n",
       "      <th>399</th>\n",
       "      <td>0.0399</td>\n",
       "      <td>88.751691</td>\n",
       "      <td>88.694667</td>\n",
       "      <td>0.199661</td>\n",
       "    </tr>\n",
       "  </tbody>\n",
       "</table>\n",
       "<p>400 rows × 4 columns</p>\n",
       "</div>"
      ],
      "text/plain": [
       "     Alphas  Training Accuracy  Testing Accuracy  Sum of Impurities\n",
       "0    0.0000          99.524817         84.138545           0.004954\n",
       "1    0.0001          90.825847         89.503925           0.145934\n",
       "2    0.0002          90.270889         89.795258           0.151913\n",
       "3    0.0003          90.267420         89.843813           0.152820\n",
       "4    0.0004          90.232736         89.819535           0.154672\n",
       "..      ...                ...               ...                ...\n",
       "395  0.0395          88.751691         88.694667           0.199661\n",
       "396  0.0396          88.751691         88.694667           0.199661\n",
       "397  0.0397          88.751691         88.694667           0.199661\n",
       "398  0.0398          88.751691         88.694667           0.199661\n",
       "399  0.0399          88.751691         88.694667           0.199661\n",
       "\n",
       "[400 rows x 4 columns]"
      ]
     },
     "metadata": {},
     "execution_count": 42
    }
   ],
   "metadata": {
    "id": "4KyM6ZJs_m7H"
   }
  },
  {
   "cell_type": "code",
   "execution_count": 43,
   "source": [
    "sns.lineplot(x=alphas,y=r['Sum of Impurities'])"
   ],
   "outputs": [
    {
     "output_type": "execute_result",
     "data": {
      "text/plain": [
       "<AxesSubplot:ylabel='Sum of Impurities'>"
      ]
     },
     "metadata": {},
     "execution_count": 43
    },
    {
     "output_type": "display_data",
     "data": {
      "image/png": "[encoded data removed]",
      "text/plain": [
       "<Figure size 432x288 with 1 Axes>"
      ]
     },
     "metadata": {
      "needs_background": "light"
     }
    }
   ],
   "metadata": {
    "id": "gtkC67zJ_6Ks"
   }
  },
  {
   "cell_type": "code",
   "execution_count": 44,
   "source": [
    "sns.lineplot(x=alphas,y=r['Testing Accuracy'],label='Testing Accuracy',color='#297A15')\n",
    "sns.lineplot(x=alphas,y=r['Training Accuracy'],label='Training Accuracy',color='#ff6666')   "
   ],
   "outputs": [
    {
     "output_type": "execute_result",
     "data": {
      "text/plain": [
       "<AxesSubplot:ylabel='Testing Accuracy'>"
      ]
     },
     "metadata": {},
     "execution_count": 44
    },
    {
     "output_type": "display_data",
     "data": {
      "image/png": "[encoded data removed]",
      "text/plain": [
       "<Figure size 432x288 with 1 Axes>"
      ]
     },
     "metadata": {
      "needs_background": "light"
     }
    }
   ],
   "metadata": {
    "id": "DeOvXblpWNJJ"
   }
  },
  {
   "cell_type": "code",
   "execution_count": 45,
   "source": [
    "r[r['Alphas']==a]"
   ],
   "outputs": [
    {
     "output_type": "execute_result",
     "data": {
      "text/html": [
       "<div>\n",
       "<style scoped>\n",
       "    .dataframe tbody tr th:only-of-type {\n",
       "        vertical-align: middle;\n",
       "    }\n",
       "\n",
       "    .dataframe tbody tr th {\n",
       "        vertical-align: top;\n",
       "    }\n",
       "\n",
       "    .dataframe thead th {\n",
       "        text-align: right;\n",
       "    }\n",
       "</style>\n",
       "<table border=\"1\" class=\"dataframe\">\n",
       "  <thead>\n",
       "    <tr style=\"text-align: right;\">\n",
       "      <th></th>\n",
       "      <th>Alphas</th>\n",
       "      <th>Training Accuracy</th>\n",
       "      <th>Testing Accuracy</th>\n",
       "      <th>Sum of Impurities</th>\n",
       "    </tr>\n",
       "  </thead>\n",
       "  <tbody>\n",
       "    <tr>\n",
       "      <th>13</th>\n",
       "      <td>0.0013</td>\n",
       "      <td>89.979536</td>\n",
       "      <td>89.876184</td>\n",
       "      <td>0.161112</td>\n",
       "    </tr>\n",
       "  </tbody>\n",
       "</table>\n",
       "</div>"
      ],
      "text/plain": [
       "    Alphas  Training Accuracy  Testing Accuracy  Sum of Impurities\n",
       "13  0.0013          89.979536         89.876184           0.161112"
      ]
     },
     "metadata": {},
     "execution_count": 45
    }
   ],
   "metadata": {}
  },
  {
   "cell_type": "markdown",
   "source": [
    "2. For part (1), prepare a table representing train accuracy and testing accuracy for\n",
    "each value of the Complexity parameter. Comment on over\f\n",
    "tting, and under\f\n",
    "tting\n",
    "for each entry in the table. 10 marks\n",
    "3. Replicate part (2) with sklearn Decision Tree Classi\f\n",
    "er's `cost complexity pruning path'\n",
    "function. Is there any deviation between the results from your implementation and\n",
    "the inbuilt function? 5 marks"
   ],
   "metadata": {
    "id": "GAm2wMLzR2T2"
   }
  },
  {
   "cell_type": "code",
   "execution_count": 46,
   "source": [
    "classifier = DecisionTreeClassifier()\n",
    "pruning_path = classifier.cost_complexity_pruning_path(trainSet_x, trainSet_y)\n",
    "ccp_alphas, impurities = pruning_path.ccp_alphas, pruning_path.impurities\n"
   ],
   "outputs": [],
   "metadata": {
    "id": "OfUIj6a4_-EM"
   }
  },
  {
   "cell_type": "code",
   "execution_count": 47,
   "source": [
    "ccp_alphas"
   ],
   "outputs": [
    {
     "output_type": "execute_result",
     "data": {
      "text/plain": [
       "array([0.        , 0.        , 0.        , ..., 0.00298236, 0.00544123,\n",
       "       0.03012609])"
      ]
     },
     "metadata": {},
     "execution_count": 47
    }
   ],
   "metadata": {
    "id": "n06j7YVwn6m5"
   }
  },
  {
   "cell_type": "code",
   "execution_count": 48,
   "source": [
    "impurities"
   ],
   "outputs": [
    {
     "output_type": "execute_result",
     "data": {
      "text/plain": [
       "array([0.00495416, 0.00495416, 0.00495416, ..., 0.16409397, 0.1695352 ,\n",
       "       0.19966129])"
      ]
     },
     "metadata": {},
     "execution_count": 48
    }
   ],
   "metadata": {
    "id": "EX8VX_ZGn7gD"
   }
  },
  {
   "cell_type": "code",
   "execution_count": 49,
   "source": [
    "sns.lineplot(x=ccp_alphas,y=impurities,label='impurities')"
   ],
   "outputs": [
    {
     "output_type": "execute_result",
     "data": {
      "text/plain": [
       "<AxesSubplot:>"
      ]
     },
     "metadata": {},
     "execution_count": 49
    },
    {
     "output_type": "display_data",
     "data": {
      "image/png": "[encoded data removed]",
      "text/plain": [
       "<Figure size 432x288 with 1 Axes>"
      ]
     },
     "metadata": {
      "needs_background": "light"
     }
    }
   ],
   "metadata": {
    "id": "0AVLQYrpoASF"
   }
  },
  {
   "cell_type": "code",
   "execution_count": 50,
   "source": [
    "clfs = []\n",
    "for c in ccp_alphas:\n",
    "    clf = DecisionTreeClassifier(random_state=0, ccp_alpha=c)\n",
    "    clf.fit(trainSet_x, trainSet_y)\n",
    "    clfs.append(clf)"
   ],
   "outputs": [],
   "metadata": {
    "id": "08EeP8NGoJif"
   }
  },
  {
   "cell_type": "code",
   "execution_count": 51,
   "source": [
    "p_train = []\n",
    "p_test = []\n",
    "for x in clfs:\n",
    "\n",
    "    p_test.append(x.predict(testSet_x))\n",
    "    p_train.append(x.predict(trainSet_x))\n",
    "    "
   ],
   "outputs": [],
   "metadata": {}
  },
  {
   "cell_type": "code",
   "execution_count": 52,
   "source": [
    "acc_train = []\n",
    "acc_test = []\n",
    "for i in range(len(p_train)):\n",
    "    acc_train.append(acc_(p_train[i],trainSet_y))\n",
    "    acc_test.append(acc_(p_test[i],testSet_y))\n",
    "\n"
   ],
   "outputs": [],
   "metadata": {}
  },
  {
   "cell_type": "code",
   "execution_count": 53,
   "source": [
    "len(clfs)"
   ],
   "outputs": [
    {
     "output_type": "execute_result",
     "data": {
      "text/plain": [
       "1310"
      ]
     },
     "metadata": {},
     "execution_count": 53
    }
   ],
   "metadata": {}
  },
  {
   "cell_type": "code",
   "execution_count": 54,
   "source": [
    "pd.Series(acc_test)"
   ],
   "outputs": [
    {
     "output_type": "execute_result",
     "data": {
      "text/plain": [
       "0       84.057619\n",
       "1       84.057619\n",
       "2       84.057619\n",
       "3       84.057619\n",
       "4       84.057619\n",
       "          ...    \n",
       "1305    89.892369\n",
       "1306    89.892369\n",
       "1307    89.876184\n",
       "1308    89.876184\n",
       "1309    88.694667\n",
       "Length: 1310, dtype: float64"
      ]
     },
     "metadata": {},
     "execution_count": 54
    }
   ],
   "metadata": {}
  },
  {
   "cell_type": "code",
   "execution_count": 55,
   "source": [
    "len(ccp_alphas)"
   ],
   "outputs": [
    {
     "output_type": "execute_result",
     "data": {
      "text/plain": [
       "1310"
      ]
     },
     "metadata": {},
     "execution_count": 55
    }
   ],
   "metadata": {}
  },
  {
   "cell_type": "code",
   "execution_count": 56,
   "source": [
    "len(impurities)"
   ],
   "outputs": [
    {
     "output_type": "execute_result",
     "data": {
      "text/plain": [
       "1310"
      ]
     },
     "metadata": {},
     "execution_count": 56
    }
   ],
   "metadata": {}
  },
  {
   "cell_type": "code",
   "execution_count": 57,
   "source": [
    "sns.lineplot(x=ccp_alphas,y=np.array(acc_test),label = 'testing accuracies')"
   ],
   "outputs": [
    {
     "output_type": "execute_result",
     "data": {
      "text/plain": [
       "<AxesSubplot:>"
      ]
     },
     "metadata": {},
     "execution_count": 57
    },
    {
     "output_type": "display_data",
     "data": {
      "image/png": "[encoded data removed]",
      "text/plain": [
       "<Figure size 432x288 with 1 Axes>"
      ]
     },
     "metadata": {
      "needs_background": "light"
     }
    }
   ],
   "metadata": {}
  },
  {
   "cell_type": "code",
   "execution_count": 58,
   "source": [
    "help(sklearn.tree._tree.Tree)"
   ],
   "outputs": [
    {
     "output_type": "stream",
     "name": "stdout",
     "text": [
      "Help on class Tree in module sklearn.tree._tree:\n",
      "\n",
      "class Tree(builtins.object)\n",
      " |  Array-based representation of a binary decision tree.\n",
      " |  \n",
      " |  The binary tree is represented as a number of parallel arrays. The i-th\n",
      " |  element of each array holds information about the node `i`. Node 0 is the\n",
      " |  tree's root. You can find a detailed description of all arrays in\n",
      " |  `_tree.pxd`. NOTE: Some of the arrays only apply to either leaves or split\n",
      " |  nodes, resp. In this case the values of nodes of the other type are\n",
      " |  arbitrary!\n",
      " |  \n",
      " |  Attributes\n",
      " |  ----------\n",
      " |  node_count : int\n",
      " |      The number of nodes (internal nodes + leaves) in the tree.\n",
      " |  \n",
      " |  capacity : int\n",
      " |      The current capacity (i.e., size) of the arrays, which is at least as\n",
      " |      great as `node_count`.\n",
      " |  \n",
      " |  max_depth : int\n",
      " |      The depth of the tree, i.e. the maximum depth of its leaves.\n",
      " |  \n",
      " |  children_left : array of int, shape [node_count]\n",
      " |      children_left[i] holds the node id of the left child of node i.\n",
      " |      For leaves, children_left[i] == TREE_LEAF. Otherwise,\n",
      " |      children_left[i] > i. This child handles the case where\n",
      " |      X[:, feature[i]] <= threshold[i].\n",
      " |  \n",
      " |  children_right : array of int, shape [node_count]\n",
      " |      children_right[i] holds the node id of the right child of node i.\n",
      " |      For leaves, children_right[i] == TREE_LEAF. Otherwise,\n",
      " |      children_right[i] > i. This child handles the case where\n",
      " |      X[:, feature[i]] > threshold[i].\n",
      " |  \n",
      " |  feature : array of int, shape [node_count]\n",
      " |      feature[i] holds the feature to split on, for the internal node i.\n",
      " |  \n",
      " |  threshold : array of double, shape [node_count]\n",
      " |      threshold[i] holds the threshold for the internal node i.\n",
      " |  \n",
      " |  value : array of double, shape [node_count, n_outputs, max_n_classes]\n",
      " |      Contains the constant prediction value of each node.\n",
      " |  \n",
      " |  impurity : array of double, shape [node_count]\n",
      " |      impurity[i] holds the impurity (i.e., the value of the splitting\n",
      " |      criterion) at node i.\n",
      " |  \n",
      " |  n_node_samples : array of int, shape [node_count]\n",
      " |      n_node_samples[i] holds the number of training samples reaching node i.\n",
      " |  \n",
      " |  weighted_n_node_samples : array of int, shape [node_count]\n",
      " |      weighted_n_node_samples[i] holds the weighted number of training samples\n",
      " |      reaching node i.\n",
      " |  \n",
      " |  Methods defined here:\n",
      " |  \n",
      " |  __getstate__(...)\n",
      " |      Getstate re-implementation, for pickling.\n",
      " |  \n",
      " |  __reduce__(...)\n",
      " |      Reduce re-implementation, for pickling.\n",
      " |  \n",
      " |  __setstate__(...)\n",
      " |      Setstate re-implementation, for unpickling.\n",
      " |  \n",
      " |  apply(...)\n",
      " |      Finds the terminal region (=leaf node) for each sample in X.\n",
      " |  \n",
      " |  compute_feature_importances(...)\n",
      " |      Computes the importance of each feature (aka variable).\n",
      " |  \n",
      " |  compute_partial_dependence(...)\n",
      " |      Partial dependence of the response on the ``target_feature`` set.\n",
      " |      \n",
      " |      For each sample in ``X`` a tree traversal is performed.\n",
      " |      Each traversal starts from the root with weight 1.0.\n",
      " |      \n",
      " |      At each non-leaf node that splits on a target feature, either\n",
      " |      the left child or the right child is visited based on the feature\n",
      " |      value of the current sample, and the weight is not modified.\n",
      " |      At each non-leaf node that splits on a complementary feature,\n",
      " |      both children are visited and the weight is multiplied by the fraction\n",
      " |      of training samples which went to each child.\n",
      " |      \n",
      " |      At each leaf, the value of the node is multiplied by the current\n",
      " |      weight (weights sum to 1 for all visited terminal nodes).\n",
      " |      \n",
      " |      Parameters\n",
      " |      ----------\n",
      " |      X : view on 2d ndarray, shape (n_samples, n_target_features)\n",
      " |          The grid points on which the partial dependence should be\n",
      " |          evaluated.\n",
      " |      target_features : view on 1d ndarray, shape (n_target_features)\n",
      " |          The set of target features for which the partial dependence\n",
      " |          should be evaluated.\n",
      " |      out : view on 1d ndarray, shape (n_samples)\n",
      " |          The value of the partial dependence function on each grid\n",
      " |          point.\n",
      " |  \n",
      " |  decision_path(...)\n",
      " |      Finds the decision path (=node) for each sample in X.\n",
      " |  \n",
      " |  predict(...)\n",
      " |      Predict target for X.\n",
      " |  \n",
      " |  ----------------------------------------------------------------------\n",
      " |  Static methods defined here:\n",
      " |  \n",
      " |  __new__(*args, **kwargs) from builtins.type\n",
      " |      Create and return a new object.  See help(type) for accurate signature.\n",
      " |  \n",
      " |  ----------------------------------------------------------------------\n",
      " |  Data descriptors defined here:\n",
      " |  \n",
      " |  capacity\n",
      " |  \n",
      " |  children_left\n",
      " |  \n",
      " |  children_right\n",
      " |  \n",
      " |  feature\n",
      " |  \n",
      " |  impurity\n",
      " |  \n",
      " |  max_depth\n",
      " |  \n",
      " |  max_n_classes\n",
      " |  \n",
      " |  n_classes\n",
      " |  \n",
      " |  n_features\n",
      " |  \n",
      " |  n_leaves\n",
      " |  \n",
      " |  n_node_samples\n",
      " |  \n",
      " |  n_outputs\n",
      " |  \n",
      " |  node_count\n",
      " |  \n",
      " |  threshold\n",
      " |  \n",
      " |  value\n",
      " |  \n",
      " |  weighted_n_node_samples\n",
      " |  \n",
      " |  ----------------------------------------------------------------------\n",
      " |  Data and other attributes defined here:\n",
      " |  \n",
      " |  __pyx_vtable__ = <capsule object NULL>\n",
      "\n"
     ]
    }
   ],
   "metadata": {}
  },
  {
   "cell_type": "code",
   "execution_count": 59,
   "source": [
    "sns.lineplot(x=ccp_alphas,y=np.array(acc_test),label='Testing Accuracy',color='#297A15')\n",
    "sns.lineplot(x=ccp_alphas,y=np.array(acc_train),label='Training Accuracy',color='#ff6666')   "
   ],
   "outputs": [
    {
     "output_type": "execute_result",
     "data": {
      "text/plain": [
       "<AxesSubplot:>"
      ]
     },
     "metadata": {},
     "execution_count": 59
    },
    {
     "output_type": "display_data",
     "data": {
      "image/png": "[encoded data removed]",
      "text/plain": [
       "<Figure size 432x288 with 1 Axes>"
      ]
     },
     "metadata": {
      "needs_background": "light"
     }
    }
   ],
   "metadata": {}
  },
  {
   "cell_type": "code",
   "execution_count": 60,
   "source": [
    "max(acc_test)"
   ],
   "outputs": [
    {
     "output_type": "execute_result",
     "data": {
      "text/plain": [
       "89.89236869790402"
      ]
     },
     "metadata": {},
     "execution_count": 60
    }
   ],
   "metadata": {}
  },
  {
   "cell_type": "code",
   "execution_count": 61,
   "source": [
    "90.18370154568261"
   ],
   "outputs": [
    {
     "output_type": "execute_result",
     "data": {
      "text/plain": [
       "90.18370154568261"
      ]
     },
     "metadata": {},
     "execution_count": 61
    }
   ],
   "metadata": {}
  },
  {
   "cell_type": "code",
   "execution_count": null,
   "source": [],
   "outputs": [],
   "metadata": {}
  },
  {
   "cell_type": "code",
   "execution_count": null,
   "source": [],
   "outputs": [],
   "metadata": {}
  },
  {
   "cell_type": "code",
   "execution_count": null,
   "source": [],
   "outputs": [],
   "metadata": {}
  },
  {
   "cell_type": "code",
   "execution_count": null,
   "source": [],
   "outputs": [],
   "metadata": {}
  },
  {
   "cell_type": "code",
   "execution_count": null,
   "source": [],
   "outputs": [],
   "metadata": {}
  },
  {
   "cell_type": "code",
   "execution_count": null,
   "source": [],
   "outputs": [],
   "metadata": {}
  },
  {
   "cell_type": "code",
   "execution_count": null,
   "source": [],
   "outputs": [],
   "metadata": {}
  },
  {
   "cell_type": "code",
   "execution_count": null,
   "source": [],
   "outputs": [],
   "metadata": {}
  },
  {
   "cell_type": "code",
   "execution_count": null,
   "source": [],
   "outputs": [],
   "metadata": {}
  }
 ],
 "metadata": {
  "accelerator": "GPU",
  "colab": {
   "collapsed_sections": [],
   "name": "Q2.ipynb",
   "provenance": []
  },
  "kernelspec": {
   "name": "python3",
   "display_name": "Python 3.8.8 64-bit ('base': conda)"
  },
  "language_info": {
   "codemirror_mode": {
    "name": "ipython",
    "version": 3
   },
   "file_extension": ".py",
   "mimetype": "text/x-python",
   "name": "python",
   "nbconvert_exporter": "python",
   "pygments_lexer": "ipython3",
   "version": "3.8.8"
  },
  "interpreter": {
   "hash": "8b2bbfe2baf11a74864cbebc35dbd867a924551c1494f42238edac32a50e51b6"
  }
 },
 "nbformat": 4,
 "nbformat_minor": 1
}