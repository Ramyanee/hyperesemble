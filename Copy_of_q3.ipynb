{
 "cells": [
  {
   "cell_type": "markdown",
   "metadata": {
    "id": "sjpqpIO6Z-RM"
   },
   "source": [
    "3. (35 points) For this question, you can use the decision tree classi\f",
    "\n",
    "er from sklearn.\n",
    "Dataset: data\n",
    "Target Variable: Month\n",
    "You will have to handle null values in the data.\n",
    "Split the data into training and testing set (75:25 ratio) using the function you created\n",
    "in previous question.\n",
    "Use the same training set for training the following models. You can not use sklearn for\n",
    "splitting the dataset.\n",
    "Page 2\n",
    "• Train a decision tree using both gini index and entropy. Don't change any of other\n",
    "default values of the classi\f",
    "\n",
    "er. In the following models, use the criteria which gives\n",
    "better accuracy on test set. 5 marks\n",
    "• Train decision trees with di\u000b",
    "\n",
    "erent maximum depths [2, 4, 8, 10, 12, 30]. Find the\n",
    "best value of depth by using testing and training accuracy. Plot the curve between\n",
    "training and testing accuracy and depth to support your analysis. 10 marks\n",
    "• Ensembling is a method to combine multiple not-so-good models to get a bet-\n",
    "ter performing model (more in upcoming lectures). Create 150 di\u000b",
    "\n",
    "erent decision\n",
    "stumps (max depth 4). For each stump, train it on randomly selected 40% of the\n",
    "training data, i.e., select data for each stump separately. Now, predict the test\n",
    "samples' labels by taking take majority vote of the output of the stumps. How is\n",
    "the performance e\u000b",
    "\n",
    "ected as compared to part (a) and (b)? 10 marks\n",
    "• Now, try to tune the decision stumps by changing the max-depth [5, 7, 13, 15, 25,\n",
    "best achieved from (b)] and number of trees. Analyze the e\u000b",
    "\n",
    "ect on the training\n",
    "and testing accuracy. Use majority vote for \f",
    "\n",
    "nal prediction on the test data. 10\n",
    "marks\n",
    "Compare the results of the classi\f",
    "\n",
    "cation models created above on the test set. Rank the\n",
    "models and analyze if there is a statistically signi\f",
    "\n",
    "cant di\u000b",
    "\n",
    "erence. Add all the analysis\n",
    "to the report."
   ]
  },
  {
   "cell_type": "code",
   "execution_count": 2,
   "metadata": {
    "colab": {
     "base_uri": "https://localhost:8080/"
    },
    "id": "kQ0b7rWPd8jz",
    "outputId": "963189f4-fd76-404e-9dd0-de9ff1b21f92"
   },
   "outputs": [],
   "source": [
    "import pandas as pd\n",
    "import sklearn\n",
    "import numpy as np\n",
    "import seaborn as sns\n",
    "import matplotlib.pyplot as plt\n"
   ]
  },
  {
   "cell_type": "code",
   "execution_count": 3,
   "metadata": {
    "id": "X8smGHhteBCt"
   },
   "outputs": [],
   "source": [
    "data_original = pd.read_csv(\"/Users/ramyanee/Downloads/ML/dataset_3.csv\")\n",
    "data = data_original.copy().drop('No',axis=1)\n",
    "data = data.sample(frac=1)\n",
    "data[\"Date\"] = pd.to_datetime(data[['year','month','day']])"
   ]
  },
  {
   "cell_type": "code",
   "execution_count": 4,
   "metadata": {
    "colab": {
     "base_uri": "https://localhost:8080/",
     "height": 204
    },
    "id": "QjezbhEFeWhC",
    "outputId": "203b1d4b-3630-48a3-dc23-f63ed6d074f1"
   },
   "outputs": [
    {
     "data": {
      "text/html": [
       "<div>\n",
       "<style scoped>\n",
       "    .dataframe tbody tr th:only-of-type {\n",
       "        vertical-align: middle;\n",
       "    }\n",
       "\n",
       "    .dataframe tbody tr th {\n",
       "        vertical-align: top;\n",
       "    }\n",
       "\n",
       "    .dataframe thead th {\n",
       "        text-align: right;\n",
       "    }\n",
       "</style>\n",
       "<table border=\"1\" class=\"dataframe\">\n",
       "  <thead>\n",
       "    <tr style=\"text-align: right;\">\n",
       "      <th></th>\n",
       "      <th>year</th>\n",
       "      <th>month</th>\n",
       "      <th>day</th>\n",
       "      <th>hour</th>\n",
       "      <th>A</th>\n",
       "      <th>B</th>\n",
       "      <th>C</th>\n",
       "      <th>D</th>\n",
       "      <th>E</th>\n",
       "      <th>F</th>\n",
       "      <th>G</th>\n",
       "      <th>H</th>\n",
       "      <th>Date</th>\n",
       "    </tr>\n",
       "  </thead>\n",
       "  <tbody>\n",
       "    <tr>\n",
       "      <th>18747</th>\n",
       "      <td>2012</td>\n",
       "      <td>2</td>\n",
       "      <td>21</td>\n",
       "      <td>3</td>\n",
       "      <td>68.0</td>\n",
       "      <td>-13</td>\n",
       "      <td>-6.0</td>\n",
       "      <td>1023.0</td>\n",
       "      <td>cv</td>\n",
       "      <td>3.12</td>\n",
       "      <td>0</td>\n",
       "      <td>0</td>\n",
       "      <td>2012-02-21</td>\n",
       "    </tr>\n",
       "    <tr>\n",
       "      <th>6664</th>\n",
       "      <td>2010</td>\n",
       "      <td>10</td>\n",
       "      <td>5</td>\n",
       "      <td>16</td>\n",
       "      <td>60.0</td>\n",
       "      <td>11</td>\n",
       "      <td>25.0</td>\n",
       "      <td>1012.0</td>\n",
       "      <td>SE</td>\n",
       "      <td>10.28</td>\n",
       "      <td>0</td>\n",
       "      <td>0</td>\n",
       "      <td>2010-10-05</td>\n",
       "    </tr>\n",
       "    <tr>\n",
       "      <th>150</th>\n",
       "      <td>2010</td>\n",
       "      <td>1</td>\n",
       "      <td>7</td>\n",
       "      <td>6</td>\n",
       "      <td>24.0</td>\n",
       "      <td>-24</td>\n",
       "      <td>-15.0</td>\n",
       "      <td>1035.0</td>\n",
       "      <td>NW</td>\n",
       "      <td>14.30</td>\n",
       "      <td>0</td>\n",
       "      <td>0</td>\n",
       "      <td>2010-01-07</td>\n",
       "    </tr>\n",
       "    <tr>\n",
       "      <th>42658</th>\n",
       "      <td>2014</td>\n",
       "      <td>11</td>\n",
       "      <td>13</td>\n",
       "      <td>10</td>\n",
       "      <td>40.0</td>\n",
       "      <td>-11</td>\n",
       "      <td>8.0</td>\n",
       "      <td>1026.0</td>\n",
       "      <td>SE</td>\n",
       "      <td>4.92</td>\n",
       "      <td>0</td>\n",
       "      <td>0</td>\n",
       "      <td>2014-11-13</td>\n",
       "    </tr>\n",
       "    <tr>\n",
       "      <th>40587</th>\n",
       "      <td>2014</td>\n",
       "      <td>8</td>\n",
       "      <td>19</td>\n",
       "      <td>3</td>\n",
       "      <td>74.0</td>\n",
       "      <td>18</td>\n",
       "      <td>21.0</td>\n",
       "      <td>1012.0</td>\n",
       "      <td>NE</td>\n",
       "      <td>1.79</td>\n",
       "      <td>0</td>\n",
       "      <td>0</td>\n",
       "      <td>2014-08-19</td>\n",
       "    </tr>\n",
       "  </tbody>\n",
       "</table>\n",
       "</div>"
      ],
      "text/plain": [
       "       year  month  day  hour     A   B     C       D   E      F  G  H  \\\n",
       "18747  2012      2   21     3  68.0 -13  -6.0  1023.0  cv   3.12  0  0   \n",
       "6664   2010     10    5    16  60.0  11  25.0  1012.0  SE  10.28  0  0   \n",
       "150    2010      1    7     6  24.0 -24 -15.0  1035.0  NW  14.30  0  0   \n",
       "42658  2014     11   13    10  40.0 -11   8.0  1026.0  SE   4.92  0  0   \n",
       "40587  2014      8   19     3  74.0  18  21.0  1012.0  NE   1.79  0  0   \n",
       "\n",
       "            Date  \n",
       "18747 2012-02-21  \n",
       "6664  2010-10-05  \n",
       "150   2010-01-07  \n",
       "42658 2014-11-13  \n",
       "40587 2014-08-19  "
      ]
     },
     "execution_count": 4,
     "metadata": {},
     "output_type": "execute_result"
    }
   ],
   "source": [
    "data.head()"
   ]
  },
  {
   "cell_type": "code",
   "execution_count": 5,
   "metadata": {
    "colab": {
     "base_uri": "https://localhost:8080/",
     "height": 204
    },
    "id": "uR_Xl3_pax77",
    "outputId": "28960be5-b03e-4661-9196-af81dbdeb8dc"
   },
   "outputs": [
    {
     "data": {
      "text/html": [
       "<div>\n",
       "<style scoped>\n",
       "    .dataframe tbody tr th:only-of-type {\n",
       "        vertical-align: middle;\n",
       "    }\n",
       "\n",
       "    .dataframe tbody tr th {\n",
       "        vertical-align: top;\n",
       "    }\n",
       "\n",
       "    .dataframe thead th {\n",
       "        text-align: right;\n",
       "    }\n",
       "</style>\n",
       "<table border=\"1\" class=\"dataframe\">\n",
       "  <thead>\n",
       "    <tr style=\"text-align: right;\">\n",
       "      <th></th>\n",
       "      <th>No</th>\n",
       "      <th>year</th>\n",
       "      <th>month</th>\n",
       "      <th>day</th>\n",
       "      <th>hour</th>\n",
       "      <th>A</th>\n",
       "      <th>B</th>\n",
       "      <th>C</th>\n",
       "      <th>D</th>\n",
       "      <th>E</th>\n",
       "      <th>F</th>\n",
       "      <th>G</th>\n",
       "      <th>H</th>\n",
       "    </tr>\n",
       "  </thead>\n",
       "  <tbody>\n",
       "    <tr>\n",
       "      <th>0</th>\n",
       "      <td>1</td>\n",
       "      <td>2010</td>\n",
       "      <td>1</td>\n",
       "      <td>1</td>\n",
       "      <td>0</td>\n",
       "      <td>NaN</td>\n",
       "      <td>-21</td>\n",
       "      <td>-11.0</td>\n",
       "      <td>1021.0</td>\n",
       "      <td>NW</td>\n",
       "      <td>1.79</td>\n",
       "      <td>0</td>\n",
       "      <td>0</td>\n",
       "    </tr>\n",
       "    <tr>\n",
       "      <th>1</th>\n",
       "      <td>2</td>\n",
       "      <td>2010</td>\n",
       "      <td>1</td>\n",
       "      <td>1</td>\n",
       "      <td>1</td>\n",
       "      <td>NaN</td>\n",
       "      <td>-21</td>\n",
       "      <td>-12.0</td>\n",
       "      <td>1020.0</td>\n",
       "      <td>NW</td>\n",
       "      <td>4.92</td>\n",
       "      <td>0</td>\n",
       "      <td>0</td>\n",
       "    </tr>\n",
       "    <tr>\n",
       "      <th>2</th>\n",
       "      <td>3</td>\n",
       "      <td>2010</td>\n",
       "      <td>1</td>\n",
       "      <td>1</td>\n",
       "      <td>2</td>\n",
       "      <td>NaN</td>\n",
       "      <td>-21</td>\n",
       "      <td>-11.0</td>\n",
       "      <td>1019.0</td>\n",
       "      <td>NW</td>\n",
       "      <td>6.71</td>\n",
       "      <td>0</td>\n",
       "      <td>0</td>\n",
       "    </tr>\n",
       "    <tr>\n",
       "      <th>3</th>\n",
       "      <td>4</td>\n",
       "      <td>2010</td>\n",
       "      <td>1</td>\n",
       "      <td>1</td>\n",
       "      <td>3</td>\n",
       "      <td>NaN</td>\n",
       "      <td>-21</td>\n",
       "      <td>-14.0</td>\n",
       "      <td>1019.0</td>\n",
       "      <td>NW</td>\n",
       "      <td>9.84</td>\n",
       "      <td>0</td>\n",
       "      <td>0</td>\n",
       "    </tr>\n",
       "    <tr>\n",
       "      <th>4</th>\n",
       "      <td>5</td>\n",
       "      <td>2010</td>\n",
       "      <td>1</td>\n",
       "      <td>1</td>\n",
       "      <td>4</td>\n",
       "      <td>NaN</td>\n",
       "      <td>-20</td>\n",
       "      <td>-12.0</td>\n",
       "      <td>1018.0</td>\n",
       "      <td>NW</td>\n",
       "      <td>12.97</td>\n",
       "      <td>0</td>\n",
       "      <td>0</td>\n",
       "    </tr>\n",
       "  </tbody>\n",
       "</table>\n",
       "</div>"
      ],
      "text/plain": [
       "   No  year  month  day  hour   A   B     C       D   E      F  G  H\n",
       "0   1  2010      1    1     0 NaN -21 -11.0  1021.0  NW   1.79  0  0\n",
       "1   2  2010      1    1     1 NaN -21 -12.0  1020.0  NW   4.92  0  0\n",
       "2   3  2010      1    1     2 NaN -21 -11.0  1019.0  NW   6.71  0  0\n",
       "3   4  2010      1    1     3 NaN -21 -14.0  1019.0  NW   9.84  0  0\n",
       "4   5  2010      1    1     4 NaN -20 -12.0  1018.0  NW  12.97  0  0"
      ]
     },
     "execution_count": 5,
     "metadata": {},
     "output_type": "execute_result"
    }
   ],
   "source": [
    "data_original.head()"
   ]
  },
  {
   "cell_type": "code",
   "execution_count": 6,
   "metadata": {
    "colab": {
     "base_uri": "https://localhost:8080/",
     "height": 419
    },
    "id": "DZPKhvaJbURK",
    "outputId": "67f4f98d-d936-437e-a5f4-ab5f8c11401e"
   },
   "outputs": [
    {
     "data": {
      "text/html": [
       "<div>\n",
       "<style scoped>\n",
       "    .dataframe tbody tr th:only-of-type {\n",
       "        vertical-align: middle;\n",
       "    }\n",
       "\n",
       "    .dataframe tbody tr th {\n",
       "        vertical-align: top;\n",
       "    }\n",
       "\n",
       "    .dataframe thead th {\n",
       "        text-align: right;\n",
       "    }\n",
       "</style>\n",
       "<table border=\"1\" class=\"dataframe\">\n",
       "  <thead>\n",
       "    <tr style=\"text-align: right;\">\n",
       "      <th></th>\n",
       "      <th>year</th>\n",
       "      <th>month</th>\n",
       "      <th>day</th>\n",
       "      <th>hour</th>\n",
       "      <th>A</th>\n",
       "      <th>B</th>\n",
       "      <th>C</th>\n",
       "      <th>D</th>\n",
       "      <th>E</th>\n",
       "      <th>F</th>\n",
       "      <th>G</th>\n",
       "      <th>H</th>\n",
       "      <th>Date</th>\n",
       "    </tr>\n",
       "  </thead>\n",
       "  <tbody>\n",
       "    <tr>\n",
       "      <th>18747</th>\n",
       "      <td>2012</td>\n",
       "      <td>2</td>\n",
       "      <td>21</td>\n",
       "      <td>3</td>\n",
       "      <td>68.0</td>\n",
       "      <td>-13</td>\n",
       "      <td>-6.0</td>\n",
       "      <td>1023.0</td>\n",
       "      <td>3</td>\n",
       "      <td>3.12</td>\n",
       "      <td>0</td>\n",
       "      <td>0</td>\n",
       "      <td>2012-02-21</td>\n",
       "    </tr>\n",
       "    <tr>\n",
       "      <th>6664</th>\n",
       "      <td>2010</td>\n",
       "      <td>10</td>\n",
       "      <td>5</td>\n",
       "      <td>16</td>\n",
       "      <td>60.0</td>\n",
       "      <td>11</td>\n",
       "      <td>25.0</td>\n",
       "      <td>1012.0</td>\n",
       "      <td>2</td>\n",
       "      <td>10.28</td>\n",
       "      <td>0</td>\n",
       "      <td>0</td>\n",
       "      <td>2010-10-05</td>\n",
       "    </tr>\n",
       "    <tr>\n",
       "      <th>150</th>\n",
       "      <td>2010</td>\n",
       "      <td>1</td>\n",
       "      <td>7</td>\n",
       "      <td>6</td>\n",
       "      <td>24.0</td>\n",
       "      <td>-24</td>\n",
       "      <td>-15.0</td>\n",
       "      <td>1035.0</td>\n",
       "      <td>1</td>\n",
       "      <td>14.30</td>\n",
       "      <td>0</td>\n",
       "      <td>0</td>\n",
       "      <td>2010-01-07</td>\n",
       "    </tr>\n",
       "    <tr>\n",
       "      <th>42658</th>\n",
       "      <td>2014</td>\n",
       "      <td>11</td>\n",
       "      <td>13</td>\n",
       "      <td>10</td>\n",
       "      <td>40.0</td>\n",
       "      <td>-11</td>\n",
       "      <td>8.0</td>\n",
       "      <td>1026.0</td>\n",
       "      <td>2</td>\n",
       "      <td>4.92</td>\n",
       "      <td>0</td>\n",
       "      <td>0</td>\n",
       "      <td>2014-11-13</td>\n",
       "    </tr>\n",
       "    <tr>\n",
       "      <th>40587</th>\n",
       "      <td>2014</td>\n",
       "      <td>8</td>\n",
       "      <td>19</td>\n",
       "      <td>3</td>\n",
       "      <td>74.0</td>\n",
       "      <td>18</td>\n",
       "      <td>21.0</td>\n",
       "      <td>1012.0</td>\n",
       "      <td>0</td>\n",
       "      <td>1.79</td>\n",
       "      <td>0</td>\n",
       "      <td>0</td>\n",
       "      <td>2014-08-19</td>\n",
       "    </tr>\n",
       "    <tr>\n",
       "      <th>...</th>\n",
       "      <td>...</td>\n",
       "      <td>...</td>\n",
       "      <td>...</td>\n",
       "      <td>...</td>\n",
       "      <td>...</td>\n",
       "      <td>...</td>\n",
       "      <td>...</td>\n",
       "      <td>...</td>\n",
       "      <td>...</td>\n",
       "      <td>...</td>\n",
       "      <td>...</td>\n",
       "      <td>...</td>\n",
       "      <td>...</td>\n",
       "    </tr>\n",
       "    <tr>\n",
       "      <th>10507</th>\n",
       "      <td>2011</td>\n",
       "      <td>3</td>\n",
       "      <td>14</td>\n",
       "      <td>19</td>\n",
       "      <td>16.0</td>\n",
       "      <td>-18</td>\n",
       "      <td>8.0</td>\n",
       "      <td>1027.0</td>\n",
       "      <td>1</td>\n",
       "      <td>120.25</td>\n",
       "      <td>0</td>\n",
       "      <td>0</td>\n",
       "      <td>2011-03-14</td>\n",
       "    </tr>\n",
       "    <tr>\n",
       "      <th>16593</th>\n",
       "      <td>2011</td>\n",
       "      <td>11</td>\n",
       "      <td>23</td>\n",
       "      <td>9</td>\n",
       "      <td>13.0</td>\n",
       "      <td>-16</td>\n",
       "      <td>1.0</td>\n",
       "      <td>1036.0</td>\n",
       "      <td>1</td>\n",
       "      <td>222.16</td>\n",
       "      <td>0</td>\n",
       "      <td>0</td>\n",
       "      <td>2011-11-23</td>\n",
       "    </tr>\n",
       "    <tr>\n",
       "      <th>28913</th>\n",
       "      <td>2013</td>\n",
       "      <td>4</td>\n",
       "      <td>19</td>\n",
       "      <td>17</td>\n",
       "      <td>57.0</td>\n",
       "      <td>-2</td>\n",
       "      <td>8.0</td>\n",
       "      <td>1022.0</td>\n",
       "      <td>2</td>\n",
       "      <td>21.00</td>\n",
       "      <td>0</td>\n",
       "      <td>0</td>\n",
       "      <td>2013-04-19</td>\n",
       "    </tr>\n",
       "    <tr>\n",
       "      <th>40376</th>\n",
       "      <td>2014</td>\n",
       "      <td>8</td>\n",
       "      <td>10</td>\n",
       "      <td>8</td>\n",
       "      <td>24.0</td>\n",
       "      <td>19</td>\n",
       "      <td>24.0</td>\n",
       "      <td>1005.0</td>\n",
       "      <td>3</td>\n",
       "      <td>0.89</td>\n",
       "      <td>0</td>\n",
       "      <td>0</td>\n",
       "      <td>2014-08-10</td>\n",
       "    </tr>\n",
       "    <tr>\n",
       "      <th>8456</th>\n",
       "      <td>2010</td>\n",
       "      <td>12</td>\n",
       "      <td>19</td>\n",
       "      <td>8</td>\n",
       "      <td>72.0</td>\n",
       "      <td>-17</td>\n",
       "      <td>5.0</td>\n",
       "      <td>1015.0</td>\n",
       "      <td>1</td>\n",
       "      <td>16.54</td>\n",
       "      <td>0</td>\n",
       "      <td>0</td>\n",
       "      <td>2010-12-19</td>\n",
       "    </tr>\n",
       "  </tbody>\n",
       "</table>\n",
       "<p>43824 rows × 13 columns</p>\n",
       "</div>"
      ],
      "text/plain": [
       "       year  month  day  hour     A   B     C       D  E       F  G  H  \\\n",
       "18747  2012      2   21     3  68.0 -13  -6.0  1023.0  3    3.12  0  0   \n",
       "6664   2010     10    5    16  60.0  11  25.0  1012.0  2   10.28  0  0   \n",
       "150    2010      1    7     6  24.0 -24 -15.0  1035.0  1   14.30  0  0   \n",
       "42658  2014     11   13    10  40.0 -11   8.0  1026.0  2    4.92  0  0   \n",
       "40587  2014      8   19     3  74.0  18  21.0  1012.0  0    1.79  0  0   \n",
       "...     ...    ...  ...   ...   ...  ..   ...     ... ..     ... .. ..   \n",
       "10507  2011      3   14    19  16.0 -18   8.0  1027.0  1  120.25  0  0   \n",
       "16593  2011     11   23     9  13.0 -16   1.0  1036.0  1  222.16  0  0   \n",
       "28913  2013      4   19    17  57.0  -2   8.0  1022.0  2   21.00  0  0   \n",
       "40376  2014      8   10     8  24.0  19  24.0  1005.0  3    0.89  0  0   \n",
       "8456   2010     12   19     8  72.0 -17   5.0  1015.0  1   16.54  0  0   \n",
       "\n",
       "            Date  \n",
       "18747 2012-02-21  \n",
       "6664  2010-10-05  \n",
       "150   2010-01-07  \n",
       "42658 2014-11-13  \n",
       "40587 2014-08-19  \n",
       "...          ...  \n",
       "10507 2011-03-14  \n",
       "16593 2011-11-23  \n",
       "28913 2013-04-19  \n",
       "40376 2014-08-10  \n",
       "8456  2010-12-19  \n",
       "\n",
       "[43824 rows x 13 columns]"
      ]
     },
     "execution_count": 6,
     "metadata": {},
     "output_type": "execute_result"
    }
   ],
   "source": [
    "from sklearn.preprocessing import LabelEncoder \n",
    "le = LabelEncoder()\n",
    "data.E.unique()\n",
    "data['E'] = le.fit_transform(data['E'])\n",
    "data"
   ]
  },
  {
   "cell_type": "code",
   "execution_count": 7,
   "metadata": {
    "colab": {
     "base_uri": "https://localhost:8080/"
    },
    "id": "XiMeXVK_ej9i",
    "outputId": "df3c998c-c865-447f-8d56-96d82d400484"
   },
   "outputs": [
    {
     "data": {
      "text/plain": [
       "year        0\n",
       "month       0\n",
       "day         0\n",
       "hour        0\n",
       "A        2067\n",
       "B           0\n",
       "C           0\n",
       "D           0\n",
       "E           0\n",
       "F           0\n",
       "G           0\n",
       "H           0\n",
       "Date        0\n",
       "dtype: int64"
      ]
     },
     "execution_count": 7,
     "metadata": {},
     "output_type": "execute_result"
    }
   ],
   "source": [
    "data.isnull().sum()"
   ]
  },
  {
   "cell_type": "code",
   "execution_count": 8,
   "metadata": {
    "colab": {
     "base_uri": "https://localhost:8080/",
     "height": 421
    },
    "id": "bYJNyJD-emoc",
    "outputId": "94152ce1-7f5f-4ac5-f4f9-c5261573bb03"
   },
   "outputs": [
    {
     "data": {
      "text/html": [
       "<div>\n",
       "<style scoped>\n",
       "    .dataframe tbody tr th:only-of-type {\n",
       "        vertical-align: middle;\n",
       "    }\n",
       "\n",
       "    .dataframe tbody tr th {\n",
       "        vertical-align: top;\n",
       "    }\n",
       "\n",
       "    .dataframe thead th {\n",
       "        text-align: right;\n",
       "    }\n",
       "</style>\n",
       "<table border=\"1\" class=\"dataframe\">\n",
       "  <thead>\n",
       "    <tr style=\"text-align: right;\">\n",
       "      <th></th>\n",
       "      <th>count</th>\n",
       "      <th>mean</th>\n",
       "      <th>std</th>\n",
       "      <th>min</th>\n",
       "      <th>25%</th>\n",
       "      <th>50%</th>\n",
       "      <th>75%</th>\n",
       "      <th>max</th>\n",
       "    </tr>\n",
       "  </thead>\n",
       "  <tbody>\n",
       "    <tr>\n",
       "      <th>year</th>\n",
       "      <td>43824.0</td>\n",
       "      <td>2012.000000</td>\n",
       "      <td>1.413842</td>\n",
       "      <td>2010.00</td>\n",
       "      <td>2011.00</td>\n",
       "      <td>2012.00</td>\n",
       "      <td>2013.00</td>\n",
       "      <td>2014.0</td>\n",
       "    </tr>\n",
       "    <tr>\n",
       "      <th>month</th>\n",
       "      <td>43824.0</td>\n",
       "      <td>6.523549</td>\n",
       "      <td>3.448572</td>\n",
       "      <td>1.00</td>\n",
       "      <td>4.00</td>\n",
       "      <td>7.00</td>\n",
       "      <td>10.00</td>\n",
       "      <td>12.0</td>\n",
       "    </tr>\n",
       "    <tr>\n",
       "      <th>day</th>\n",
       "      <td>43824.0</td>\n",
       "      <td>15.727820</td>\n",
       "      <td>8.799425</td>\n",
       "      <td>1.00</td>\n",
       "      <td>8.00</td>\n",
       "      <td>16.00</td>\n",
       "      <td>23.00</td>\n",
       "      <td>31.0</td>\n",
       "    </tr>\n",
       "    <tr>\n",
       "      <th>hour</th>\n",
       "      <td>43824.0</td>\n",
       "      <td>11.500000</td>\n",
       "      <td>6.922266</td>\n",
       "      <td>0.00</td>\n",
       "      <td>5.75</td>\n",
       "      <td>11.50</td>\n",
       "      <td>17.25</td>\n",
       "      <td>23.0</td>\n",
       "    </tr>\n",
       "    <tr>\n",
       "      <th>A</th>\n",
       "      <td>41757.0</td>\n",
       "      <td>98.613215</td>\n",
       "      <td>92.050387</td>\n",
       "      <td>0.00</td>\n",
       "      <td>29.00</td>\n",
       "      <td>72.00</td>\n",
       "      <td>137.00</td>\n",
       "      <td>994.0</td>\n",
       "    </tr>\n",
       "    <tr>\n",
       "      <th>B</th>\n",
       "      <td>43824.0</td>\n",
       "      <td>1.817246</td>\n",
       "      <td>14.433440</td>\n",
       "      <td>-40.00</td>\n",
       "      <td>-10.00</td>\n",
       "      <td>2.00</td>\n",
       "      <td>15.00</td>\n",
       "      <td>28.0</td>\n",
       "    </tr>\n",
       "    <tr>\n",
       "      <th>C</th>\n",
       "      <td>43824.0</td>\n",
       "      <td>12.448521</td>\n",
       "      <td>12.198613</td>\n",
       "      <td>-19.00</td>\n",
       "      <td>2.00</td>\n",
       "      <td>14.00</td>\n",
       "      <td>23.00</td>\n",
       "      <td>42.0</td>\n",
       "    </tr>\n",
       "    <tr>\n",
       "      <th>D</th>\n",
       "      <td>43824.0</td>\n",
       "      <td>1016.447654</td>\n",
       "      <td>10.268698</td>\n",
       "      <td>991.00</td>\n",
       "      <td>1008.00</td>\n",
       "      <td>1016.00</td>\n",
       "      <td>1025.00</td>\n",
       "      <td>1046.0</td>\n",
       "    </tr>\n",
       "    <tr>\n",
       "      <th>E</th>\n",
       "      <td>43824.0</td>\n",
       "      <td>1.663267</td>\n",
       "      <td>0.937981</td>\n",
       "      <td>0.00</td>\n",
       "      <td>1.00</td>\n",
       "      <td>2.00</td>\n",
       "      <td>2.00</td>\n",
       "      <td>3.0</td>\n",
       "    </tr>\n",
       "    <tr>\n",
       "      <th>F</th>\n",
       "      <td>43824.0</td>\n",
       "      <td>23.889140</td>\n",
       "      <td>50.010635</td>\n",
       "      <td>0.45</td>\n",
       "      <td>1.79</td>\n",
       "      <td>5.37</td>\n",
       "      <td>21.91</td>\n",
       "      <td>585.6</td>\n",
       "    </tr>\n",
       "    <tr>\n",
       "      <th>G</th>\n",
       "      <td>43824.0</td>\n",
       "      <td>0.052734</td>\n",
       "      <td>0.760375</td>\n",
       "      <td>0.00</td>\n",
       "      <td>0.00</td>\n",
       "      <td>0.00</td>\n",
       "      <td>0.00</td>\n",
       "      <td>27.0</td>\n",
       "    </tr>\n",
       "    <tr>\n",
       "      <th>H</th>\n",
       "      <td>43824.0</td>\n",
       "      <td>0.194916</td>\n",
       "      <td>1.415867</td>\n",
       "      <td>0.00</td>\n",
       "      <td>0.00</td>\n",
       "      <td>0.00</td>\n",
       "      <td>0.00</td>\n",
       "      <td>36.0</td>\n",
       "    </tr>\n",
       "  </tbody>\n",
       "</table>\n",
       "</div>"
      ],
      "text/plain": [
       "         count         mean        std      min      25%      50%      75%  \\\n",
       "year   43824.0  2012.000000   1.413842  2010.00  2011.00  2012.00  2013.00   \n",
       "month  43824.0     6.523549   3.448572     1.00     4.00     7.00    10.00   \n",
       "day    43824.0    15.727820   8.799425     1.00     8.00    16.00    23.00   \n",
       "hour   43824.0    11.500000   6.922266     0.00     5.75    11.50    17.25   \n",
       "A      41757.0    98.613215  92.050387     0.00    29.00    72.00   137.00   \n",
       "B      43824.0     1.817246  14.433440   -40.00   -10.00     2.00    15.00   \n",
       "C      43824.0    12.448521  12.198613   -19.00     2.00    14.00    23.00   \n",
       "D      43824.0  1016.447654  10.268698   991.00  1008.00  1016.00  1025.00   \n",
       "E      43824.0     1.663267   0.937981     0.00     1.00     2.00     2.00   \n",
       "F      43824.0    23.889140  50.010635     0.45     1.79     5.37    21.91   \n",
       "G      43824.0     0.052734   0.760375     0.00     0.00     0.00     0.00   \n",
       "H      43824.0     0.194916   1.415867     0.00     0.00     0.00     0.00   \n",
       "\n",
       "          max  \n",
       "year   2014.0  \n",
       "month    12.0  \n",
       "day      31.0  \n",
       "hour     23.0  \n",
       "A       994.0  \n",
       "B        28.0  \n",
       "C        42.0  \n",
       "D      1046.0  \n",
       "E         3.0  \n",
       "F       585.6  \n",
       "G        27.0  \n",
       "H        36.0  "
      ]
     },
     "execution_count": 8,
     "metadata": {},
     "output_type": "execute_result"
    }
   ],
   "source": [
    "data.describe().transpose()"
   ]
  },
  {
   "cell_type": "code",
   "execution_count": null,
   "metadata": {
    "id": "BujUCB6G0xtZ"
   },
   "outputs": [],
   "source": []
  },
  {
   "cell_type": "code",
   "execution_count": 9,
   "metadata": {},
   "outputs": [
    {
     "data": {
      "text/plain": [
       "<AxesSubplot:xlabel='Date', ylabel='A'>"
      ]
     },
     "execution_count": 9,
     "metadata": {},
     "output_type": "execute_result"
    },
    {
     "data": {
      "image/png": "[encoded data removed]",
      "text/plain": [
       "<Figure size 1440x720 with 1 Axes>"
      ]
     },
     "metadata": {
      "needs_background": "light"
     },
     "output_type": "display_data"
    }
   ],
   "source": [
    "d = data.copy()\n",
    "d[\"Date\"] = pd.to_datetime(d[['year','month','day']])\n",
    "plt.figure(figsize=(20,10))\n",
    "sns.lineplot(data=d,x='Date', y='A')\n",
    "\n"
   ]
  },
  {
   "cell_type": "code",
   "execution_count": 10,
   "metadata": {},
   "outputs": [
    {
     "name": "stderr",
     "output_type": "stream",
     "text": [
      "/Users/ramyanee/opt/anaconda3/lib/python3.8/site-packages/seaborn/categorical.py:3714: UserWarning: The `factorplot` function has been renamed to `catplot`. The original name will be removed in a future release. Please update your code. Note that the default `kind` in `factorplot` (`'point'`) has changed `'strip'` in `catplot`.\n",
      "  warnings.warn(msg)\n"
     ]
    },
    {
     "data": {
      "text/plain": [
       "<seaborn.axisgrid.FacetGrid at 0x7fe61b63cf10>"
      ]
     },
     "execution_count": 10,
     "metadata": {},
     "output_type": "execute_result"
    },
    {
     "data": {
      "image/png": "[encoded data removed]",
      "text/plain": [
       "<Figure size 360x360 with 1 Axes>"
      ]
     },
     "metadata": {
      "needs_background": "light"
     },
     "output_type": "display_data"
    }
   ],
   "source": [
    "sns.factorplot(data=d,x='Date', y='A')"
   ]
  },
  {
   "cell_type": "code",
   "execution_count": 11,
   "metadata": {
    "id": "olJqii462Dam"
   },
   "outputs": [],
   "source": [
    "#y.loc[2010,1]"
   ]
  },
  {
   "cell_type": "code",
   "execution_count": 12,
   "metadata": {
    "id": "ee39AmZW7hL5"
   },
   "outputs": [],
   "source": [
    "df_mean = data.copy()\n",
    "years = data['year'].unique()\n",
    "\n",
    "for i in years:\n",
    "  x =data[data.year==i].groupby('month').mean().A\n",
    "  df_mean['A'] = df_mean.apply(\n",
    "      lambda row: x[row['month']] if np.isnan(row['A']) and row['year'] == i else row['A'],\n",
    "      axis=1\n",
    "  )"
   ]
  },
  {
   "cell_type": "code",
   "execution_count": 13,
   "metadata": {
    "id": "g7DWnAmkWzF3"
   },
   "outputs": [
    {
     "data": {
      "text/plain": [
       "0    16.0\n",
       "dtype: float64"
      ]
     },
     "execution_count": 13,
     "metadata": {},
     "output_type": "execute_result"
    }
   ],
   "source": [
    "data['A'].mode()"
   ]
  },
  {
   "cell_type": "code",
   "execution_count": 14,
   "metadata": {
    "id": "FX1z5KdRTNcL"
   },
   "outputs": [],
   "source": [
    "df_mode = data.copy()\n",
    "\n"
   ]
  },
  {
   "cell_type": "code",
   "execution_count": 15,
   "metadata": {},
   "outputs": [],
   "source": [
    "df_mode['A'] = df_mode.apply(\n",
    "      lambda row: 16 if np.isnan(row['A']) else row['A'],\n",
    "      axis=1\n",
    "  )"
   ]
  },
  {
   "cell_type": "code",
   "execution_count": 16,
   "metadata": {},
   "outputs": [
    {
     "name": "stdout",
     "output_type": "stream",
     "text": [
      "<class 'pandas.core.frame.DataFrame'>\n",
      "Int64Index: 43824 entries, 18747 to 8456\n",
      "Data columns (total 13 columns):\n",
      " #   Column  Non-Null Count  Dtype         \n",
      "---  ------  --------------  -----         \n",
      " 0   year    43824 non-null  int64         \n",
      " 1   month   43824 non-null  int64         \n",
      " 2   day     43824 non-null  int64         \n",
      " 3   hour    43824 non-null  int64         \n",
      " 4   A       43824 non-null  float64       \n",
      " 5   B       43824 non-null  int64         \n",
      " 6   C       43824 non-null  float64       \n",
      " 7   D       43824 non-null  float64       \n",
      " 8   E       43824 non-null  int64         \n",
      " 9   F       43824 non-null  float64       \n",
      " 10  G       43824 non-null  int64         \n",
      " 11  H       43824 non-null  int64         \n",
      " 12  Date    43824 non-null  datetime64[ns]\n",
      "dtypes: datetime64[ns](1), float64(4), int64(8)\n",
      "memory usage: 5.7 MB\n"
     ]
    }
   ],
   "source": [
    "df_mode.info()"
   ]
  },
  {
   "cell_type": "code",
   "execution_count": 17,
   "metadata": {
    "colab": {
     "base_uri": "https://localhost:8080/",
     "height": 623
    },
    "id": "z-shU-c2x0Y6",
    "outputId": "5bb0ec98-df8e-4961-8e20-6c20bb152f40"
   },
   "outputs": [
    {
     "data": {
      "text/plain": [
       "<AxesSubplot:xlabel='Date', ylabel='A'>"
      ]
     },
     "execution_count": 17,
     "metadata": {},
     "output_type": "execute_result"
    },
    {
     "data": {
      "image/png": "[encoded data removed]",
      "text/plain": [
       "<Figure size 1440x720 with 1 Axes>"
      ]
     },
     "metadata": {
      "needs_background": "light"
     },
     "output_type": "display_data"
    }
   ],
   "source": [
    "df_intrp = data.copy()\n",
    "df_intrp = df_intrp.interpolate()\n",
    "df_intrp[\"Date\"] = pd.to_datetime(df_intrp[['year','month','day']])\n",
    "plt.figure(figsize=(20,10))\n",
    "sns.lineplot(data=df_intrp,x='Date', y='A')"
   ]
  },
  {
   "cell_type": "code",
   "execution_count": 18,
   "metadata": {
    "id": "X6aDqQtdx5la"
   },
   "outputs": [],
   "source": [
    "# df_mean = data.copy()\n",
    "# years = data['year'].unique()\n",
    "\n",
    "# for i in years:\n",
    "#   x =data[data.year==i].groupby('month').mean().A\n",
    "#   df_mean['A'] = df_mean.apply(\n",
    "#       lambda row: x[row['month']] if np.isnan(row['A']) and row['year'] == i else row['A'],\n",
    "#       axis=1\n",
    "#   )"
   ]
  },
  {
   "cell_type": "code",
   "execution_count": 19,
   "metadata": {
    "id": "ZQGYkVbAymt-"
   },
   "outputs": [],
   "source": [
    "#data['Native Country'].fillna(data['Native Country'].mode(), inplace=True)"
   ]
  },
  {
   "cell_type": "markdown",
   "metadata": {
    "id": "68dLiYb9aLpb"
   },
   "source": [
    "3. (35 points) For this question, you can use the decision tree classi\f",
    "\n",
    "er from sklearn.\n",
    "Dataset: data\n",
    "Target Variable: Month\n",
    "You will have to handle null values in the data.\n",
    "Split the data into training and testing set (75:25 ratio) using the function you created\n",
    "in previous question.\n",
    "Use the same training set for training the following models. You can not use sklearn for\n",
    "splitting the dataset.\n",
    "\n",
    "\n",
    "• Train a decision tree using both gini index and entropy. Don't change any of other\n",
    "default values of the classi\f",
    "\n",
    "er. In the following models, use the criteria which gives\n",
    "better accuracy on test set. 5 marks\n",
    "\n",
    "\n",
    "• Train decision trees with di\u000b",
    "\n",
    "erent maximum depths [2, 4, 8, 10, 12, 30]. Find the\n",
    "best value of depth by using testing and training accuracy. Plot the curve between\n",
    "training and testing accuracy and depth to support your analysis. 10 marks\n",
    "\n",
    "\n",
    "• Ensembling is a method to combine multiple not-so-good models to get a bet-\n",
    "ter performing model (more in upcoming lectures). Create 150 di\u000b",
    "\n",
    "erent decision\n",
    "stumps (max depth 4). For each stump, train it on randomly selected 40% of the\n",
    "training data, i.e., select data for each stump separately. Now, predict the test\n",
    "samples' labels by taking take majority vote of the output of the stumps. How is\n",
    "the performance e\u000b",
    "\n",
    "ected as compared to part (a) and (b)? 10 marks\n",
    "\n",
    "\n",
    "• Now, try to tune the decision stumps by changing the max-depth [5, 7, 13, 15, 25,\n",
    "best achieved from (b)] and number of trees. Analyze the e\u000b",
    "\n",
    "ect on the training\n",
    "and testing accuracy. Use majority vote for \f",
    "\n",
    "nal prediction on the test data. 10\n",
    "marks\n",
    "Compare the results of the classi\f",
    "\n",
    "cation models created above on the test set. Rank the\n",
    "models and analyze if there is a statistically signi\f",
    "\n",
    "cant di\u000b",
    "\n",
    "erence. Add all the analysis\n",
    "to the report."
   ]
  },
  {
   "cell_type": "code",
   "execution_count": null,
   "metadata": {
    "id": "kF3v0rKfRzRp"
   },
   "outputs": [],
   "source": []
  },
  {
   "cell_type": "code",
   "execution_count": 20,
   "metadata": {
    "id": "63LQrEFMzaxL"
   },
   "outputs": [],
   "source": [
    "def tts(data,target):\n",
    "  size = len(data)\n",
    "  train_test_margin = int(0.75*size)\n",
    "\n",
    "  trainSet = data[:train_test_margin]\n",
    "  testSet = data[train_test_margin:]\n",
    "\n",
    "  trainSet_x = trainSet.drop(target,axis=1)\n",
    "  trainSet_y = trainSet[target]\n",
    "  testSet_x = testSet.drop(target,axis=1)\n",
    "  testSet_y = testSet[target]\n",
    "\n",
    "  return trainSet_x,trainSet_y,testSet_x,testSet_y"
   ]
  },
  {
   "cell_type": "code",
   "execution_count": 21,
   "metadata": {
    "id": "o0fRrj0JmPz3"
   },
   "outputs": [],
   "source": [
    "def acc_(predictions,testSet_y):\n",
    "  test_size = len(testSet_y)\n",
    "  testSet_y = list(testSet_y)\n",
    "  correct_predictions = 0\n",
    "  for i in range(test_size):\n",
    "    if testSet_y[i]==predictions[i]:\n",
    "      correct_predictions= correct_predictions+1\n",
    "  return (correct_predictions/test_size)*100"
   ]
  },
  {
   "cell_type": "code",
   "execution_count": 22,
   "metadata": {
    "id": "pH330hKMatZw"
   },
   "outputs": [],
   "source": [
    "\n",
    "xtrain,ytrain,xtest,ytest = tts(data.drop('Date',axis=1).dropna(),'month')"
   ]
  },
  {
   "cell_type": "code",
   "execution_count": 23,
   "metadata": {
    "colab": {
     "base_uri": "https://localhost:8080/"
    },
    "id": "qLilRp3Gfo--",
    "outputId": "aa10a64e-e08a-45fe-ace9-ba52010d235f"
   },
   "outputs": [
    {
     "data": {
      "text/plain": [
       "18747     2\n",
       "6664     10\n",
       "150       1\n",
       "42658    11\n",
       "40587     8\n",
       "         ..\n",
       "41040     9\n",
       "41952    10\n",
       "35659     1\n",
       "29358     5\n",
       "7740     11\n",
       "Name: month, Length: 31317, dtype: int64"
      ]
     },
     "execution_count": 23,
     "metadata": {},
     "output_type": "execute_result"
    }
   ],
   "source": [
    "ytrain"
   ]
  },
  {
   "cell_type": "markdown",
   "metadata": {
    "id": "xJDAB_8FVdSC"
   },
   "source": [
    "part 1"
   ]
  },
  {
   "cell_type": "code",
   "execution_count": 24,
   "metadata": {
    "colab": {
     "base_uri": "https://localhost:8080/"
    },
    "id": "2o0J7Uk3YZk8",
    "outputId": "f137bfd4-abe0-4468-ecbb-e0dca2f6d554"
   },
   "outputs": [
    {
     "data": {
      "text/plain": [
       "82.78735632183908"
      ]
     },
     "execution_count": 24,
     "metadata": {},
     "output_type": "execute_result"
    }
   ],
   "source": [
    "from sklearn.tree import DecisionTreeClassifier\n",
    "model = DecisionTreeClassifier(criterion=\"gini\")\n",
    "c = model.fit(xtrain,ytrain)\n",
    "p = model.predict(xtest)\n",
    "acc_(p,ytest)"
   ]
  },
  {
   "cell_type": "code",
   "execution_count": null,
   "metadata": {
    "id": "BwPB_Zr0mAZe"
   },
   "outputs": [],
   "source": []
  },
  {
   "cell_type": "code",
   "execution_count": 25,
   "metadata": {
    "colab": {
     "base_uri": "https://localhost:8080/"
    },
    "id": "-d3epvsfl9uj",
    "outputId": "c927dfee-b2b0-4ec1-808d-7ba37a24b6dc"
   },
   "outputs": [
    {
     "data": {
      "text/plain": [
       "83.39080459770115"
      ]
     },
     "execution_count": 25,
     "metadata": {},
     "output_type": "execute_result"
    }
   ],
   "source": [
    "model = DecisionTreeClassifier(criterion=\"entropy\")\n",
    "c= model.fit(xtrain,ytrain)\n",
    "p = model.predict(xtest)\n",
    "acc_(p,ytest)"
   ]
  },
  {
   "cell_type": "code",
   "execution_count": null,
   "metadata": {
    "id": "R_X7wVAvn60k"
   },
   "outputs": [],
   "source": []
  },
  {
   "cell_type": "code",
   "execution_count": 26,
   "metadata": {
    "colab": {
     "base_uri": "https://localhost:8080/"
    },
    "id": "3PHzwlCgYpIe",
    "outputId": "0d6bec77-f84d-446e-9b67-e7f84411699f"
   },
   "outputs": [
    {
     "name": "stdout",
     "output_type": "stream",
     "text": [
      "82.84958013873677\n",
      "82.76743336984302\n"
     ]
    }
   ],
   "source": [
    "\n",
    "xtrain,ytrain,xtest,ytest = tts(df_mean.drop('Date',axis=1),'month')\n",
    "model = DecisionTreeClassifier(criterion=\"entropy\")\n",
    "c= model.fit(xtrain,ytrain)\n",
    "p = model.predict(xtest)\n",
    "print(acc_(p,ytest))\n",
    "\n",
    "xtrain,ytrain,xtest,ytest = tts(df_mean.drop('Date',axis=1),'month')\n",
    "model = DecisionTreeClassifier(criterion=\"gini\")\n",
    "c= model.fit(xtrain,ytrain)\n",
    "p = model.predict(xtest)\n",
    "print(acc_(p,ytest))\n"
   ]
  },
  {
   "cell_type": "code",
   "execution_count": 27,
   "metadata": {
    "colab": {
     "base_uri": "https://localhost:8080/"
    },
    "id": "-VozhLgMo5o3",
    "outputId": "d33b4301-4f3c-4e2a-98dd-de0c1671efd3"
   },
   "outputs": [
    {
     "name": "stdout",
     "output_type": "stream",
     "text": [
      "83.05038335158818\n",
      "82.29280759401242\n"
     ]
    }
   ],
   "source": [
    "xtrain,ytrain,xtest,ytest = tts(df_intrp.drop('Date',axis=1),'month')\n",
    "model = DecisionTreeClassifier(criterion=\"entropy\")\n",
    "c= model.fit(xtrain,ytrain)\n",
    "p = model.predict(xtest)\n",
    "print(acc_(p,ytest))\n",
    "\n",
    "xtrain,ytrain,xtest,ytest = tts(df_intrp.drop('Date',axis=1),'month')\n",
    "model = DecisionTreeClassifier(criterion=\"gini\")\n",
    "c= model.fit(xtrain,ytrain)\n",
    "p = model.predict(xtest)\n",
    "print(acc_(p,ytest))"
   ]
  },
  {
   "cell_type": "code",
   "execution_count": 28,
   "metadata": {},
   "outputs": [
    {
     "name": "stdout",
     "output_type": "stream",
     "text": [
      "83.16903979554581\n",
      "83.32420591456736\n"
     ]
    }
   ],
   "source": [
    "xtrain,ytrain,xtest,ytest = tts(df_mode.drop('Date',axis=1),'month')\n",
    "model = DecisionTreeClassifier(criterion=\"entropy\")\n",
    "c= model.fit(xtrain,ytrain)\n",
    "p = model.predict(xtest)\n",
    "print(acc_(p,ytest))\n",
    "\n",
    "xtrain,ytrain,xtest,ytest = tts(df_mode.drop('Date',axis=1),'month')\n",
    "model = DecisionTreeClassifier(criterion=\"gini\")\n",
    "c= model.fit(xtrain,ytrain)\n",
    "p = model.predict(xtest)\n",
    "print(acc_(p,ytest))"
   ]
  },
  {
   "cell_type": "code",
   "execution_count": 29,
   "metadata": {},
   "outputs": [
    {
     "name": "stdout",
     "output_type": "stream",
     "text": [
      "82.91347207009858\n",
      "82.23804308141658\n"
     ]
    }
   ],
   "source": [
    "xtrain,ytrain,xtest,ytest = tts(df_intrp.drop('Date',axis=1),'month')\n",
    "model = DecisionTreeClassifier(criterion=\"entropy\")\n",
    "c= model.fit(xtrain,ytrain)\n",
    "p = model.predict(xtest)\n",
    "print(acc_(p,ytest))\n",
    "\n",
    "xtrain,ytrain,xtest,ytest = tts(df_intrp.drop('Date',axis=1),'month')\n",
    "model = DecisionTreeClassifier(criterion=\"gini\")\n",
    "c= model.fit(xtrain,ytrain)\n",
    "p = model.predict(xtest)\n",
    "print(acc_(p,ytest))"
   ]
  },
  {
   "cell_type": "markdown",
   "metadata": {
    "id": "QNhRv7icVzmg"
   },
   "source": [
    "part 2"
   ]
  },
  {
   "cell_type": "code",
   "execution_count": 30,
   "metadata": {
    "id": "LYrdYsCVV1nL"
   },
   "outputs": [],
   "source": [
    "depths = [2, 4, 8, 10, 12, 30]"
   ]
  },
  {
   "cell_type": "code",
   "execution_count": 31,
   "metadata": {
    "id": "5nRzzur8V1hv"
   },
   "outputs": [],
   "source": [
    "training_accuracies = []\n",
    "testing_accuracies = []\n",
    "xtrain,ytrain,xtest,ytest = tts(df_mean.drop('Date',axis=1),'month')"
   ]
  },
  {
   "cell_type": "code",
   "execution_count": 32,
   "metadata": {
    "id": "eZ2eDswdV1dD"
   },
   "outputs": [],
   "source": [
    "for i in depths:\n",
    "  model = DecisionTreeClassifier(criterion=\"entropy\",max_depth=i)\n",
    "  c = model.fit(xtrain,ytrain)\n",
    "  testing_accuracies.append(acc_(model.predict(xtest),ytest))\n",
    "  training_accuracies.append(acc_(model.predict(xtrain),ytrain))"
   ]
  },
  {
   "cell_type": "code",
   "execution_count": 33,
   "metadata": {
    "colab": {
     "base_uri": "https://localhost:8080/",
     "height": 337
    },
    "id": "CIA1OxcDV1Wm",
    "outputId": "6d057f2a-6fbc-468d-cd3d-8d8047e0395f"
   },
   "outputs": [
    {
     "data": {
      "text/plain": [
       "Text(0.5, 0, 'tree depths')"
      ]
     },
     "execution_count": 33,
     "metadata": {},
     "output_type": "execute_result"
    },
    {
     "data": {
      "image/png": "[encoded data removed]",
      "text/plain": [
       "<Figure size 720x360 with 1 Axes>"
      ]
     },
     "metadata": {
      "needs_background": "light"
     },
     "output_type": "display_data"
    }
   ],
   "source": [
    "plt.figure(figsize=(10,5))\n",
    "sns.lineplot(x = depths, y=testing_accuracies, color='pink',label='testing accuracies').set_ylabel('accuracies')\n",
    "sns.lineplot(x = depths, y=training_accuracies, color='purple',label='training accuracies').set_xlabel('tree depths')\n"
   ]
  },
  {
   "cell_type": "code",
   "execution_count": null,
   "metadata": {},
   "outputs": [],
   "source": []
  },
  {
   "cell_type": "code",
   "execution_count": null,
   "metadata": {},
   "outputs": [],
   "source": []
  },
  {
   "cell_type": "code",
   "execution_count": 34,
   "metadata": {
    "id": "d8K4RINeo9bH"
   },
   "outputs": [],
   "source": [
    "def ens(train_data,target,maxdepth,xtest,iter):\n",
    "  p_tr = []\n",
    "  p_ts = [] \n",
    "  for i in range(iter):\n",
    "    d = train_data.sample(frac=0.4)\n",
    "    xtrain,ytrain = d.drop(target,axis=1),d[target]\n",
    "    model = DecisionTreeClassifier(criterion=\"entropy\",max_depth=maxdepth)\n",
    "    c = model.fit(xtrain,ytrain) \n",
    "    p_ts.append(model.predict(xtest))\n",
    "    p_tr.append(model.predict(train_data.drop(target,axis=1)))\n",
    "    \n",
    "  return p_ts,p_tr\n",
    "\n",
    "\n"
   ]
  },
  {
   "cell_type": "code",
   "execution_count": 35,
   "metadata": {
    "id": "rh8fzh1Ue0fg"
   },
   "outputs": [],
   "source": [
    "target = 'month'\n",
    "size = len(df_mean)\n",
    "train_test_margin = int(0.75*size)\n",
    "\n",
    "train_data = df_mean[:train_test_margin].drop('Date',axis = 1)\n",
    "test_data = df_mean[train_test_margin:].drop('Date',axis = 1)\n",
    "\n",
    "xtest = test_data.drop(target,axis=1)\n",
    "ytest = test_data[target]"
   ]
  },
  {
   "cell_type": "code",
   "execution_count": 36,
   "metadata": {
    "id": "h2etmisP27BN"
   },
   "outputs": [],
   "source": [
    "p,q = ens(train_data,'month',4,xtest,150)"
   ]
  },
  {
   "cell_type": "code",
   "execution_count": 37,
   "metadata": {
    "id": "Nb0vGuAjv_dE"
   },
   "outputs": [],
   "source": [
    "a = []\n",
    "a = a+p+p"
   ]
  },
  {
   "cell_type": "code",
   "execution_count": 38,
   "metadata": {
    "colab": {
     "base_uri": "https://localhost:8080/"
    },
    "id": "tdTESWoSwBOX",
    "outputId": "227d6f7b-f90d-4814-ecec-337f7c9d9170"
   },
   "outputs": [
    {
     "data": {
      "text/plain": [
       "(300, 10956)"
      ]
     },
     "execution_count": 38,
     "metadata": {},
     "output_type": "execute_result"
    }
   ],
   "source": [
    "np.matrix(a).shape"
   ]
  },
  {
   "cell_type": "code",
   "execution_count": 39,
   "metadata": {
    "colab": {
     "base_uri": "https://localhost:8080/"
    },
    "id": "eDbqAuYhyUD3",
    "outputId": "213bcf78-cb22-4f20-82d5-8de54fd3a06d"
   },
   "outputs": [
    {
     "data": {
      "text/plain": [
       "(150, 32868)"
      ]
     },
     "execution_count": 39,
     "metadata": {},
     "output_type": "execute_result"
    }
   ],
   "source": [
    "np.matrix(q).shape"
   ]
  },
  {
   "cell_type": "markdown",
   "metadata": {
    "id": "vH6BNu2GqfcD"
   },
   "source": [
    "majority voting"
   ]
  },
  {
   "cell_type": "code",
   "execution_count": 40,
   "metadata": {
    "id": "owoLobsXjh99"
   },
   "outputs": [],
   "source": [
    "# # p = test predictions, q = training predictions\n",
    "p,q = pd.DataFrame(np.matrix(p)).transpose(), pd.DataFrame(np.matrix(q)).transpose()\n"
   ]
  },
  {
   "cell_type": "code",
   "execution_count": 41,
   "metadata": {
    "colab": {
     "base_uri": "https://localhost:8080/",
     "height": 439
    },
    "id": "z0KM5tkayrH6",
    "outputId": "ac34e7f6-0398-4fd1-9319-de8fade73eb9"
   },
   "outputs": [
    {
     "data": {
      "text/html": [
       "<div>\n",
       "<style scoped>\n",
       "    .dataframe tbody tr th:only-of-type {\n",
       "        vertical-align: middle;\n",
       "    }\n",
       "\n",
       "    .dataframe tbody tr th {\n",
       "        vertical-align: top;\n",
       "    }\n",
       "\n",
       "    .dataframe thead th {\n",
       "        text-align: right;\n",
       "    }\n",
       "</style>\n",
       "<table border=\"1\" class=\"dataframe\">\n",
       "  <thead>\n",
       "    <tr style=\"text-align: right;\">\n",
       "      <th></th>\n",
       "      <th>0</th>\n",
       "      <th>1</th>\n",
       "      <th>2</th>\n",
       "      <th>3</th>\n",
       "      <th>4</th>\n",
       "      <th>5</th>\n",
       "      <th>6</th>\n",
       "      <th>7</th>\n",
       "      <th>8</th>\n",
       "      <th>9</th>\n",
       "      <th>...</th>\n",
       "      <th>140</th>\n",
       "      <th>141</th>\n",
       "      <th>142</th>\n",
       "      <th>143</th>\n",
       "      <th>144</th>\n",
       "      <th>145</th>\n",
       "      <th>146</th>\n",
       "      <th>147</th>\n",
       "      <th>148</th>\n",
       "      <th>149</th>\n",
       "    </tr>\n",
       "  </thead>\n",
       "  <tbody>\n",
       "    <tr>\n",
       "      <th>0</th>\n",
       "      <td>7</td>\n",
       "      <td>7</td>\n",
       "      <td>7</td>\n",
       "      <td>7</td>\n",
       "      <td>7</td>\n",
       "      <td>7</td>\n",
       "      <td>7</td>\n",
       "      <td>7</td>\n",
       "      <td>7</td>\n",
       "      <td>7</td>\n",
       "      <td>...</td>\n",
       "      <td>7</td>\n",
       "      <td>7</td>\n",
       "      <td>7</td>\n",
       "      <td>7</td>\n",
       "      <td>7</td>\n",
       "      <td>7</td>\n",
       "      <td>7</td>\n",
       "      <td>7</td>\n",
       "      <td>7</td>\n",
       "      <td>7</td>\n",
       "    </tr>\n",
       "    <tr>\n",
       "      <th>1</th>\n",
       "      <td>4</td>\n",
       "      <td>5</td>\n",
       "      <td>4</td>\n",
       "      <td>4</td>\n",
       "      <td>4</td>\n",
       "      <td>5</td>\n",
       "      <td>4</td>\n",
       "      <td>4</td>\n",
       "      <td>4</td>\n",
       "      <td>4</td>\n",
       "      <td>...</td>\n",
       "      <td>5</td>\n",
       "      <td>5</td>\n",
       "      <td>4</td>\n",
       "      <td>4</td>\n",
       "      <td>4</td>\n",
       "      <td>5</td>\n",
       "      <td>4</td>\n",
       "      <td>5</td>\n",
       "      <td>4</td>\n",
       "      <td>10</td>\n",
       "    </tr>\n",
       "    <tr>\n",
       "      <th>2</th>\n",
       "      <td>12</td>\n",
       "      <td>11</td>\n",
       "      <td>12</td>\n",
       "      <td>12</td>\n",
       "      <td>12</td>\n",
       "      <td>2</td>\n",
       "      <td>12</td>\n",
       "      <td>2</td>\n",
       "      <td>12</td>\n",
       "      <td>12</td>\n",
       "      <td>...</td>\n",
       "      <td>12</td>\n",
       "      <td>2</td>\n",
       "      <td>11</td>\n",
       "      <td>12</td>\n",
       "      <td>12</td>\n",
       "      <td>12</td>\n",
       "      <td>12</td>\n",
       "      <td>12</td>\n",
       "      <td>11</td>\n",
       "      <td>12</td>\n",
       "    </tr>\n",
       "    <tr>\n",
       "      <th>3</th>\n",
       "      <td>4</td>\n",
       "      <td>10</td>\n",
       "      <td>3</td>\n",
       "      <td>10</td>\n",
       "      <td>10</td>\n",
       "      <td>3</td>\n",
       "      <td>10</td>\n",
       "      <td>4</td>\n",
       "      <td>4</td>\n",
       "      <td>10</td>\n",
       "      <td>...</td>\n",
       "      <td>10</td>\n",
       "      <td>3</td>\n",
       "      <td>10</td>\n",
       "      <td>10</td>\n",
       "      <td>10</td>\n",
       "      <td>10</td>\n",
       "      <td>10</td>\n",
       "      <td>4</td>\n",
       "      <td>4</td>\n",
       "      <td>10</td>\n",
       "    </tr>\n",
       "    <tr>\n",
       "      <th>4</th>\n",
       "      <td>12</td>\n",
       "      <td>1</td>\n",
       "      <td>1</td>\n",
       "      <td>1</td>\n",
       "      <td>1</td>\n",
       "      <td>1</td>\n",
       "      <td>1</td>\n",
       "      <td>1</td>\n",
       "      <td>1</td>\n",
       "      <td>1</td>\n",
       "      <td>...</td>\n",
       "      <td>1</td>\n",
       "      <td>1</td>\n",
       "      <td>1</td>\n",
       "      <td>1</td>\n",
       "      <td>1</td>\n",
       "      <td>1</td>\n",
       "      <td>1</td>\n",
       "      <td>12</td>\n",
       "      <td>1</td>\n",
       "      <td>1</td>\n",
       "    </tr>\n",
       "    <tr>\n",
       "      <th>...</th>\n",
       "      <td>...</td>\n",
       "      <td>...</td>\n",
       "      <td>...</td>\n",
       "      <td>...</td>\n",
       "      <td>...</td>\n",
       "      <td>...</td>\n",
       "      <td>...</td>\n",
       "      <td>...</td>\n",
       "      <td>...</td>\n",
       "      <td>...</td>\n",
       "      <td>...</td>\n",
       "      <td>...</td>\n",
       "      <td>...</td>\n",
       "      <td>...</td>\n",
       "      <td>...</td>\n",
       "      <td>...</td>\n",
       "      <td>...</td>\n",
       "      <td>...</td>\n",
       "      <td>...</td>\n",
       "      <td>...</td>\n",
       "      <td>...</td>\n",
       "    </tr>\n",
       "    <tr>\n",
       "      <th>10951</th>\n",
       "      <td>3</td>\n",
       "      <td>3</td>\n",
       "      <td>3</td>\n",
       "      <td>3</td>\n",
       "      <td>3</td>\n",
       "      <td>3</td>\n",
       "      <td>3</td>\n",
       "      <td>3</td>\n",
       "      <td>3</td>\n",
       "      <td>3</td>\n",
       "      <td>...</td>\n",
       "      <td>3</td>\n",
       "      <td>3</td>\n",
       "      <td>3</td>\n",
       "      <td>3</td>\n",
       "      <td>3</td>\n",
       "      <td>3</td>\n",
       "      <td>3</td>\n",
       "      <td>3</td>\n",
       "      <td>3</td>\n",
       "      <td>3</td>\n",
       "    </tr>\n",
       "    <tr>\n",
       "      <th>10952</th>\n",
       "      <td>12</td>\n",
       "      <td>12</td>\n",
       "      <td>12</td>\n",
       "      <td>12</td>\n",
       "      <td>12</td>\n",
       "      <td>2</td>\n",
       "      <td>12</td>\n",
       "      <td>12</td>\n",
       "      <td>12</td>\n",
       "      <td>12</td>\n",
       "      <td>...</td>\n",
       "      <td>3</td>\n",
       "      <td>2</td>\n",
       "      <td>12</td>\n",
       "      <td>12</td>\n",
       "      <td>12</td>\n",
       "      <td>12</td>\n",
       "      <td>12</td>\n",
       "      <td>12</td>\n",
       "      <td>12</td>\n",
       "      <td>12</td>\n",
       "    </tr>\n",
       "    <tr>\n",
       "      <th>10953</th>\n",
       "      <td>3</td>\n",
       "      <td>10</td>\n",
       "      <td>3</td>\n",
       "      <td>10</td>\n",
       "      <td>10</td>\n",
       "      <td>3</td>\n",
       "      <td>3</td>\n",
       "      <td>3</td>\n",
       "      <td>3</td>\n",
       "      <td>3</td>\n",
       "      <td>...</td>\n",
       "      <td>10</td>\n",
       "      <td>3</td>\n",
       "      <td>3</td>\n",
       "      <td>10</td>\n",
       "      <td>3</td>\n",
       "      <td>10</td>\n",
       "      <td>10</td>\n",
       "      <td>3</td>\n",
       "      <td>3</td>\n",
       "      <td>10</td>\n",
       "    </tr>\n",
       "    <tr>\n",
       "      <th>10954</th>\n",
       "      <td>6</td>\n",
       "      <td>6</td>\n",
       "      <td>6</td>\n",
       "      <td>6</td>\n",
       "      <td>6</td>\n",
       "      <td>6</td>\n",
       "      <td>6</td>\n",
       "      <td>6</td>\n",
       "      <td>6</td>\n",
       "      <td>6</td>\n",
       "      <td>...</td>\n",
       "      <td>6</td>\n",
       "      <td>6</td>\n",
       "      <td>6</td>\n",
       "      <td>6</td>\n",
       "      <td>6</td>\n",
       "      <td>6</td>\n",
       "      <td>6</td>\n",
       "      <td>6</td>\n",
       "      <td>6</td>\n",
       "      <td>6</td>\n",
       "    </tr>\n",
       "    <tr>\n",
       "      <th>10955</th>\n",
       "      <td>4</td>\n",
       "      <td>3</td>\n",
       "      <td>3</td>\n",
       "      <td>3</td>\n",
       "      <td>3</td>\n",
       "      <td>3</td>\n",
       "      <td>4</td>\n",
       "      <td>4</td>\n",
       "      <td>4</td>\n",
       "      <td>3</td>\n",
       "      <td>...</td>\n",
       "      <td>3</td>\n",
       "      <td>3</td>\n",
       "      <td>3</td>\n",
       "      <td>3</td>\n",
       "      <td>4</td>\n",
       "      <td>3</td>\n",
       "      <td>3</td>\n",
       "      <td>4</td>\n",
       "      <td>4</td>\n",
       "      <td>3</td>\n",
       "    </tr>\n",
       "  </tbody>\n",
       "</table>\n",
       "<p>10956 rows × 150 columns</p>\n",
       "</div>"
      ],
      "text/plain": [
       "       0    1    2    3    4    5    6    7    8    9    ...  140  141  142  \\\n",
       "0        7    7    7    7    7    7    7    7    7    7  ...    7    7    7   \n",
       "1        4    5    4    4    4    5    4    4    4    4  ...    5    5    4   \n",
       "2       12   11   12   12   12    2   12    2   12   12  ...   12    2   11   \n",
       "3        4   10    3   10   10    3   10    4    4   10  ...   10    3   10   \n",
       "4       12    1    1    1    1    1    1    1    1    1  ...    1    1    1   \n",
       "...    ...  ...  ...  ...  ...  ...  ...  ...  ...  ...  ...  ...  ...  ...   \n",
       "10951    3    3    3    3    3    3    3    3    3    3  ...    3    3    3   \n",
       "10952   12   12   12   12   12    2   12   12   12   12  ...    3    2   12   \n",
       "10953    3   10    3   10   10    3    3    3    3    3  ...   10    3    3   \n",
       "10954    6    6    6    6    6    6    6    6    6    6  ...    6    6    6   \n",
       "10955    4    3    3    3    3    3    4    4    4    3  ...    3    3    3   \n",
       "\n",
       "       143  144  145  146  147  148  149  \n",
       "0        7    7    7    7    7    7    7  \n",
       "1        4    4    5    4    5    4   10  \n",
       "2       12   12   12   12   12   11   12  \n",
       "3       10   10   10   10    4    4   10  \n",
       "4        1    1    1    1   12    1    1  \n",
       "...    ...  ...  ...  ...  ...  ...  ...  \n",
       "10951    3    3    3    3    3    3    3  \n",
       "10952   12   12   12   12   12   12   12  \n",
       "10953   10    3   10   10    3    3   10  \n",
       "10954    6    6    6    6    6    6    6  \n",
       "10955    3    4    3    3    4    4    3  \n",
       "\n",
       "[10956 rows x 150 columns]"
      ]
     },
     "execution_count": 41,
     "metadata": {},
     "output_type": "execute_result"
    }
   ],
   "source": [
    "p"
   ]
  },
  {
   "cell_type": "code",
   "execution_count": 42,
   "metadata": {
    "id": "xMiZWxC7ytEY"
   },
   "outputs": [],
   "source": [
    "p,q = p.mode(axis=1),q.mode(axis=1)\n"
   ]
  },
  {
   "cell_type": "code",
   "execution_count": 43,
   "metadata": {
    "id": "eba-j9KVywo3"
   },
   "outputs": [],
   "source": [
    "p,q = np.array(p[0]).astype(int),np.array(q[0]).astype(int)"
   ]
  },
  {
   "cell_type": "code",
   "execution_count": 44,
   "metadata": {
    "colab": {
     "base_uri": "https://localhost:8080/"
    },
    "id": "RrhECvaB7mGr",
    "outputId": "093f8b90-db90-4ce7-afd6-1c9dcfa63900"
   },
   "outputs": [
    {
     "data": {
      "text/plain": [
       "(10956,)"
      ]
     },
     "execution_count": 44,
     "metadata": {},
     "output_type": "execute_result"
    }
   ],
   "source": [
    "p.shape"
   ]
  },
  {
   "cell_type": "code",
   "execution_count": 45,
   "metadata": {
    "id": "fQlFXPO_7sDn"
   },
   "outputs": [],
   "source": [
    "a = []"
   ]
  },
  {
   "cell_type": "code",
   "execution_count": 46,
   "metadata": {
    "id": "vTFWqBKI7t-z"
   },
   "outputs": [],
   "source": [
    "a.append(p)"
   ]
  },
  {
   "cell_type": "code",
   "execution_count": 47,
   "metadata": {
    "id": "fwtR6FNY78EL"
   },
   "outputs": [],
   "source": [
    "a = a + list(p)"
   ]
  },
  {
   "cell_type": "code",
   "execution_count": 48,
   "metadata": {
    "colab": {
     "base_uri": "https://localhost:8080/"
    },
    "id": "zln29Vfk3OWb",
    "outputId": "4aff230b-35f5-449d-ba93-38a148567e33"
   },
   "outputs": [
    {
     "name": "stderr",
     "output_type": "stream",
     "text": [
      "/Users/ramyanee/opt/anaconda3/lib/python3.8/site-packages/numpy/matrixlib/defmatrix.py:145: VisibleDeprecationWarning: Creating an ndarray from ragged nested sequences (which is a list-or-tuple of lists-or-tuples-or ndarrays with different lengths or shapes) is deprecated. If you meant to do this, you must specify 'dtype=object' when creating the ndarray.\n",
      "  arr = N.array(data, dtype=dtype, copy=copy)\n"
     ]
    },
    {
     "data": {
      "text/plain": [
       "(1, 10957)"
      ]
     },
     "execution_count": 48,
     "metadata": {},
     "output_type": "execute_result"
    }
   ],
   "source": [
    "np.matrix(a).shape"
   ]
  },
  {
   "cell_type": "code",
   "execution_count": 49,
   "metadata": {
    "colab": {
     "base_uri": "https://localhost:8080/"
    },
    "id": "ygZQ0Y6s4c73",
    "outputId": "d49a700c-5779-4de3-c76f-f01981e76a73"
   },
   "outputs": [
    {
     "data": {
      "text/plain": [
       "40.81781672143118"
      ]
     },
     "execution_count": 49,
     "metadata": {},
     "output_type": "execute_result"
    }
   ],
   "source": [
    "acc_(p,list(ytest))"
   ]
  },
  {
   "cell_type": "markdown",
   "metadata": {
    "id": "3i55URNBbuwf"
   },
   "source": [
    "part 4"
   ]
  },
  {
   "cell_type": "code",
   "execution_count": 50,
   "metadata": {
    "colab": {
     "base_uri": "https://localhost:8080/"
    },
    "id": "uTV-k_uBrm82",
    "outputId": "4733d320-9524-407d-95bd-3e4dc12fdaf5"
   },
   "outputs": [
    {
     "data": {
      "text/plain": [
       "0.30000000000000004"
      ]
     },
     "execution_count": 50,
     "metadata": {},
     "output_type": "execute_result"
    }
   ],
   "source": [
    "0.4*0.75"
   ]
  },
  {
   "cell_type": "code",
   "execution_count": 51,
   "metadata": {
    "id": "9x_SKz3A2FzP"
   },
   "outputs": [],
   "source": [
    "depth = [5, 7, 13, 15, 25,30]\n",
    "trees = [50,100,120,150,200,300]"
   ]
  },
  {
   "cell_type": "code",
   "execution_count": null,
   "metadata": {
    "id": "Fl-gFNwi8IbN"
   },
   "outputs": [],
   "source": []
  },
  {
   "cell_type": "code",
   "execution_count": 52,
   "metadata": {
    "id": "JiBgVxvKcgwX"
   },
   "outputs": [],
   "source": [
    "target = 'month'\n",
    "size = len(df_intrp)\n",
    "train_test_margin = int(0.75*size)\n",
    "\n",
    "train_data = df_intrp[:train_test_margin].drop('Date',axis = 1)\n",
    "test_data = df_intrp[train_test_margin:].drop('Date',axis = 1)\n",
    "\n",
    "xtest = test_data.drop(target,axis=1)\n",
    "ytest = test_data[target]\n"
   ]
  },
  {
   "cell_type": "code",
   "execution_count": 53,
   "metadata": {
    "colab": {
     "base_uri": "https://localhost:8080/"
    },
    "id": "TQsA3EfazUrw",
    "outputId": "2c3e9f0e-f0ee-4209-96cb-c3e1884e346f"
   },
   "outputs": [
    {
     "data": {
      "text/plain": [
       "43824"
      ]
     },
     "execution_count": 53,
     "metadata": {},
     "output_type": "execute_result"
    }
   ],
   "source": [
    "size"
   ]
  },
  {
   "cell_type": "code",
   "execution_count": 54,
   "metadata": {
    "id": "nu3MqD5hl3O7"
   },
   "outputs": [],
   "source": [
    "\n",
    "Z = []\n",
    "W = []\n"
   ]
  },
  {
   "cell_type": "code",
   "execution_count": 55,
   "metadata": {
    "id": "zuG2NdoMs_MR"
   },
   "outputs": [],
   "source": [
    "# for t in range(len(trees)):\n",
    "#   for i in range(len(depth)):\n",
    "    \n",
    "#     z,w = ens(train_data,'month',depth[i],xtest,trees[t])\n",
    "#     z,w = pd.DataFrame(np.matrix(z)).transpose(), pd.DataFrame(np.matrix(w)).transpose()\n",
    "#     z,w = z.mode(axis=1),w.mode(axis=1)\n",
    "#     z,w = np.array(z[0]).astype(int),np.array(w[0]).astype(int)\n",
    "#     Z.append(z)\n",
    "#     W.append(w)\n",
    "  \n",
    "    \n",
    "#     #print(np.matrix(p).shape,np.matrix(q).shape)\n",
    "\n",
    "  "
   ]
  },
  {
   "cell_type": "code",
   "execution_count": 56,
   "metadata": {
    "colab": {
     "base_uri": "https://localhost:8080/"
    },
    "id": "3iHRw5qxQkVm",
    "outputId": "65244550-d2c0-4f87-d54f-ea80a6c8a11f"
   },
   "outputs": [],
   "source": [
    "# np.matrix(Z).shape"
   ]
  },
  {
   "cell_type": "code",
   "execution_count": 57,
   "metadata": {
    "id": "bROBbk8VxL0a"
   },
   "outputs": [],
   "source": [
    "# A,B = Z,W"
   ]
  },
  {
   "cell_type": "code",
   "execution_count": 58,
   "metadata": {
    "colab": {
     "base_uri": "https://localhost:8080/"
    },
    "id": "6rJI-UeJzZ6U",
    "outputId": "795efa42-6409-4547-aee4-9dfdc699513b"
   },
   "outputs": [],
   "source": [
    "# np.matrix(A).shape"
   ]
  },
  {
   "cell_type": "code",
   "execution_count": 59,
   "metadata": {
    "colab": {
     "base_uri": "https://localhost:8080/"
    },
    "id": "fqQUdhMHzN7q",
    "outputId": "49f1ca35-942c-419c-c271-9801d48ef05b"
   },
   "outputs": [],
   "source": [
    "# np.matrix(B).shape"
   ]
  },
  {
   "cell_type": "code",
   "execution_count": 60,
   "metadata": {
    "id": "oqOoHjIq4hAH"
   },
   "outputs": [],
   "source": [
    "# Z,W= pd.DataFrame(np.matrix(Z)).transpose(), pd.DataFrame(np.matrix(W)).transpose()\n",
    "# Z,W = Z.mode(axis=1),W.mode(axis=1)\n",
    "# Z,W = np.array(Z[0]).astype(int),np.array(W[0]).astype(int)"
   ]
  },
  {
   "cell_type": "code",
   "execution_count": 61,
   "metadata": {
    "colab": {
     "base_uri": "https://localhost:8080/"
    },
    "id": "IFhVgA8tzivx",
    "outputId": "ee62be74-18f9-4067-afad-e686269bf71f"
   },
   "outputs": [],
   "source": [
    "# np.matrix(Z).shape"
   ]
  },
  {
   "cell_type": "code",
   "execution_count": 62,
   "metadata": {
    "colab": {
     "base_uri": "https://localhost:8080/"
    },
    "id": "W68Y-j_7zlAV",
    "outputId": "0ffeacdb-4c18-4d11-e572-e1edc781426f"
   },
   "outputs": [],
   "source": [
    "# np.matrix(W).shape"
   ]
  },
  {
   "cell_type": "code",
   "execution_count": 63,
   "metadata": {
    "id": "iqH522g3txP7"
   },
   "outputs": [],
   "source": [
    "\n",
    "# for t in range(len(trees)):\n",
    "#   for i in range(len(depth)):\n",
    "#     # print((t,i))\n",
    "#     a,b = ens(train_data,'month',depth[i],xtest,trees[t])\n",
    "#     z = z + a\n",
    "#     w = w + b\n",
    "#     #print(np.matrix(p).shape,np.matrix(q).shape)\n",
    "\n",
    "#   Z = Z + z\n",
    "#   W = W + w\n",
    "\n"
   ]
  },
  {
   "cell_type": "code",
   "execution_count": 64,
   "metadata": {
    "colab": {
     "base_uri": "https://localhost:8080/"
    },
    "id": "eszyVDb3xupr",
    "outputId": "6a21902d-f1c3-4879-9f65-ede704e076c8"
   },
   "outputs": [],
   "source": [
    "# np.matrix(z).shape"
   ]
  },
  {
   "cell_type": "code",
   "execution_count": 65,
   "metadata": {
    "colab": {
     "base_uri": "https://localhost:8080/"
    },
    "id": "xQvzWQY2y-GS",
    "outputId": "ed3b7644-2893-4460-ef4f-8b04656a3459"
   },
   "outputs": [],
   "source": [
    "#z = test predictions, w = train predictions\n",
    "\n",
    "# acc_(Z,ytest)"
   ]
  },
  {
   "cell_type": "code",
   "execution_count": 66,
   "metadata": {
    "colab": {
     "base_uri": "https://localhost:8080/"
    },
    "id": "pqBKKgoD8st_",
    "outputId": "881e639c-7254-4dab-bf7f-a387067e3935"
   },
   "outputs": [],
   "source": [
    "# acc_(W,ytrain)"
   ]
  },
  {
   "cell_type": "code",
   "execution_count": 67,
   "metadata": {},
   "outputs": [],
   "source": [
    "\n",
    "n_trees = []\n",
    "T = []\n",
    "Ts = []"
   ]
  },
  {
   "cell_type": "code",
   "execution_count": 68,
   "metadata": {
    "id": "Ihxp7jjd80kc"
   },
   "outputs": [],
   "source": [
    "for t in range(len(trees)):\n",
    "  test_acc = []#contains accuracies for each value of depth for current number of trees\n",
    "  train_acc = []\n",
    "  n_depths = [] \n",
    "  for i in range(len(depth)):\n",
    "    \n",
    "    z,w = ens(train_data,'month',depth[i],xtest,trees[t])# t trees with depth depth[i]\n",
    "    z,w = pd.DataFrame(np.matrix(z)).transpose(), pd.DataFrame(np.matrix(w)).transpose()\n",
    "    z,w = z.mode(axis=1),w.mode(axis=1)\n",
    "    z,w = np.array(z[0]).astype(int),np.array(w[0]).astype(int)\n",
    "    p = acc_(z,ytest)\n",
    "    q = acc_(w,ytrain)\n",
    "    d = depth[i]\n",
    "#     test_acc.append(p)\n",
    "#     train_acc.append(q)\n",
    "#     n_depths = d\n",
    "    T.append([p,q,d,t])\n",
    "  \n"
   ]
  },
  {
   "cell_type": "code",
   "execution_count": 69,
   "metadata": {},
   "outputs": [],
   "source": [
    "G = pd.DataFrame(T,columns=['test accuracy','training accuracy','depth','number of trees'])"
   ]
  },
  {
   "cell_type": "code",
   "execution_count": 70,
   "metadata": {},
   "outputs": [
    {
     "data": {
      "text/html": [
       "<div>\n",
       "<style scoped>\n",
       "    .dataframe tbody tr th:only-of-type {\n",
       "        vertical-align: middle;\n",
       "    }\n",
       "\n",
       "    .dataframe tbody tr th {\n",
       "        vertical-align: top;\n",
       "    }\n",
       "\n",
       "    .dataframe thead th {\n",
       "        text-align: right;\n",
       "    }\n",
       "</style>\n",
       "<table border=\"1\" class=\"dataframe\">\n",
       "  <thead>\n",
       "    <tr style=\"text-align: right;\">\n",
       "      <th></th>\n",
       "      <th>test accuracy</th>\n",
       "      <th>training accuracy</th>\n",
       "      <th>depth</th>\n",
       "      <th>number of trees</th>\n",
       "    </tr>\n",
       "  </thead>\n",
       "  <tbody>\n",
       "    <tr>\n",
       "      <th>0</th>\n",
       "      <td>44.943410</td>\n",
       "      <td>45.414993</td>\n",
       "      <td>5</td>\n",
       "      <td>0</td>\n",
       "    </tr>\n",
       "    <tr>\n",
       "      <th>1</th>\n",
       "      <td>56.261409</td>\n",
       "      <td>58.312036</td>\n",
       "      <td>7</td>\n",
       "      <td>0</td>\n",
       "    </tr>\n",
       "    <tr>\n",
       "      <th>2</th>\n",
       "      <td>86.035049</td>\n",
       "      <td>96.026530</td>\n",
       "      <td>13</td>\n",
       "      <td>0</td>\n",
       "    </tr>\n",
       "    <tr>\n",
       "      <th>3</th>\n",
       "      <td>88.481198</td>\n",
       "      <td>98.740416</td>\n",
       "      <td>15</td>\n",
       "      <td>0</td>\n",
       "    </tr>\n",
       "    <tr>\n",
       "      <th>4</th>\n",
       "      <td>89.448704</td>\n",
       "      <td>99.510162</td>\n",
       "      <td>25</td>\n",
       "      <td>0</td>\n",
       "    </tr>\n",
       "    <tr>\n",
       "      <th>5</th>\n",
       "      <td>89.485214</td>\n",
       "      <td>99.534502</td>\n",
       "      <td>30</td>\n",
       "      <td>0</td>\n",
       "    </tr>\n",
       "    <tr>\n",
       "      <th>6</th>\n",
       "      <td>44.797371</td>\n",
       "      <td>45.497140</td>\n",
       "      <td>5</td>\n",
       "      <td>1</td>\n",
       "    </tr>\n",
       "    <tr>\n",
       "      <th>7</th>\n",
       "      <td>56.334429</td>\n",
       "      <td>58.308994</td>\n",
       "      <td>7</td>\n",
       "      <td>1</td>\n",
       "    </tr>\n",
       "    <tr>\n",
       "      <th>8</th>\n",
       "      <td>86.619204</td>\n",
       "      <td>96.388585</td>\n",
       "      <td>13</td>\n",
       "      <td>1</td>\n",
       "    </tr>\n",
       "    <tr>\n",
       "      <th>9</th>\n",
       "      <td>89.101862</td>\n",
       "      <td>99.072046</td>\n",
       "      <td>15</td>\n",
       "      <td>1</td>\n",
       "    </tr>\n",
       "    <tr>\n",
       "      <th>10</th>\n",
       "      <td>89.959839</td>\n",
       "      <td>99.677498</td>\n",
       "      <td>25</td>\n",
       "      <td>1</td>\n",
       "    </tr>\n",
       "    <tr>\n",
       "      <th>11</th>\n",
       "      <td>90.087623</td>\n",
       "      <td>99.717050</td>\n",
       "      <td>30</td>\n",
       "      <td>1</td>\n",
       "    </tr>\n",
       "    <tr>\n",
       "      <th>12</th>\n",
       "      <td>45.162468</td>\n",
       "      <td>45.804430</td>\n",
       "      <td>5</td>\n",
       "      <td>2</td>\n",
       "    </tr>\n",
       "    <tr>\n",
       "      <th>13</th>\n",
       "      <td>56.425703</td>\n",
       "      <td>58.631496</td>\n",
       "      <td>7</td>\n",
       "      <td>2</td>\n",
       "    </tr>\n",
       "    <tr>\n",
       "      <th>14</th>\n",
       "      <td>86.673969</td>\n",
       "      <td>96.510284</td>\n",
       "      <td>13</td>\n",
       "      <td>2</td>\n",
       "    </tr>\n",
       "    <tr>\n",
       "      <th>15</th>\n",
       "      <td>89.311793</td>\n",
       "      <td>99.099428</td>\n",
       "      <td>15</td>\n",
       "      <td>2</td>\n",
       "    </tr>\n",
       "    <tr>\n",
       "      <th>16</th>\n",
       "      <td>90.014604</td>\n",
       "      <td>99.668370</td>\n",
       "      <td>25</td>\n",
       "      <td>2</td>\n",
       "    </tr>\n",
       "    <tr>\n",
       "      <th>17</th>\n",
       "      <td>90.206280</td>\n",
       "      <td>99.753560</td>\n",
       "      <td>30</td>\n",
       "      <td>2</td>\n",
       "    </tr>\n",
       "    <tr>\n",
       "      <th>18</th>\n",
       "      <td>44.852136</td>\n",
       "      <td>45.481928</td>\n",
       "      <td>5</td>\n",
       "      <td>3</td>\n",
       "    </tr>\n",
       "    <tr>\n",
       "      <th>19</th>\n",
       "      <td>56.553487</td>\n",
       "      <td>58.649751</td>\n",
       "      <td>7</td>\n",
       "      <td>3</td>\n",
       "    </tr>\n",
       "    <tr>\n",
       "      <th>20</th>\n",
       "      <td>86.436656</td>\n",
       "      <td>96.473774</td>\n",
       "      <td>13</td>\n",
       "      <td>3</td>\n",
       "    </tr>\n",
       "    <tr>\n",
       "      <th>21</th>\n",
       "      <td>89.266156</td>\n",
       "      <td>99.166362</td>\n",
       "      <td>15</td>\n",
       "      <td>3</td>\n",
       "    </tr>\n",
       "    <tr>\n",
       "      <th>22</th>\n",
       "      <td>90.087623</td>\n",
       "      <td>99.756602</td>\n",
       "      <td>25</td>\n",
       "      <td>3</td>\n",
       "    </tr>\n",
       "    <tr>\n",
       "      <th>23</th>\n",
       "      <td>90.324936</td>\n",
       "      <td>99.741390</td>\n",
       "      <td>30</td>\n",
       "      <td>3</td>\n",
       "    </tr>\n",
       "    <tr>\n",
       "      <th>24</th>\n",
       "      <td>45.463673</td>\n",
       "      <td>45.996106</td>\n",
       "      <td>5</td>\n",
       "      <td>4</td>\n",
       "    </tr>\n",
       "    <tr>\n",
       "      <th>25</th>\n",
       "      <td>56.179263</td>\n",
       "      <td>58.235974</td>\n",
       "      <td>7</td>\n",
       "      <td>4</td>\n",
       "    </tr>\n",
       "    <tr>\n",
       "      <th>26</th>\n",
       "      <td>86.664841</td>\n",
       "      <td>96.571133</td>\n",
       "      <td>13</td>\n",
       "      <td>4</td>\n",
       "    </tr>\n",
       "    <tr>\n",
       "      <th>27</th>\n",
       "      <td>89.448704</td>\n",
       "      <td>99.239382</td>\n",
       "      <td>15</td>\n",
       "      <td>4</td>\n",
       "    </tr>\n",
       "    <tr>\n",
       "      <th>28</th>\n",
       "      <td>90.297554</td>\n",
       "      <td>99.774857</td>\n",
       "      <td>25</td>\n",
       "      <td>4</td>\n",
       "    </tr>\n",
       "    <tr>\n",
       "      <th>29</th>\n",
       "      <td>90.178897</td>\n",
       "      <td>99.762687</td>\n",
       "      <td>30</td>\n",
       "      <td>4</td>\n",
       "    </tr>\n",
       "    <tr>\n",
       "      <th>30</th>\n",
       "      <td>45.135086</td>\n",
       "      <td>45.697943</td>\n",
       "      <td>5</td>\n",
       "      <td>5</td>\n",
       "    </tr>\n",
       "    <tr>\n",
       "      <th>31</th>\n",
       "      <td>56.553487</td>\n",
       "      <td>58.424608</td>\n",
       "      <td>7</td>\n",
       "      <td>5</td>\n",
       "    </tr>\n",
       "    <tr>\n",
       "      <th>32</th>\n",
       "      <td>86.418401</td>\n",
       "      <td>96.565048</td>\n",
       "      <td>13</td>\n",
       "      <td>5</td>\n",
       "    </tr>\n",
       "    <tr>\n",
       "      <th>33</th>\n",
       "      <td>89.439576</td>\n",
       "      <td>99.285019</td>\n",
       "      <td>15</td>\n",
       "      <td>5</td>\n",
       "    </tr>\n",
       "    <tr>\n",
       "      <th>34</th>\n",
       "      <td>90.416210</td>\n",
       "      <td>99.793112</td>\n",
       "      <td>25</td>\n",
       "      <td>5</td>\n",
       "    </tr>\n",
       "    <tr>\n",
       "      <th>35</th>\n",
       "      <td>90.242789</td>\n",
       "      <td>99.805282</td>\n",
       "      <td>30</td>\n",
       "      <td>5</td>\n",
       "    </tr>\n",
       "  </tbody>\n",
       "</table>\n",
       "</div>"
      ],
      "text/plain": [
       "    test accuracy  training accuracy  depth  number of trees\n",
       "0       44.943410          45.414993      5                0\n",
       "1       56.261409          58.312036      7                0\n",
       "2       86.035049          96.026530     13                0\n",
       "3       88.481198          98.740416     15                0\n",
       "4       89.448704          99.510162     25                0\n",
       "5       89.485214          99.534502     30                0\n",
       "6       44.797371          45.497140      5                1\n",
       "7       56.334429          58.308994      7                1\n",
       "8       86.619204          96.388585     13                1\n",
       "9       89.101862          99.072046     15                1\n",
       "10      89.959839          99.677498     25                1\n",
       "11      90.087623          99.717050     30                1\n",
       "12      45.162468          45.804430      5                2\n",
       "13      56.425703          58.631496      7                2\n",
       "14      86.673969          96.510284     13                2\n",
       "15      89.311793          99.099428     15                2\n",
       "16      90.014604          99.668370     25                2\n",
       "17      90.206280          99.753560     30                2\n",
       "18      44.852136          45.481928      5                3\n",
       "19      56.553487          58.649751      7                3\n",
       "20      86.436656          96.473774     13                3\n",
       "21      89.266156          99.166362     15                3\n",
       "22      90.087623          99.756602     25                3\n",
       "23      90.324936          99.741390     30                3\n",
       "24      45.463673          45.996106      5                4\n",
       "25      56.179263          58.235974      7                4\n",
       "26      86.664841          96.571133     13                4\n",
       "27      89.448704          99.239382     15                4\n",
       "28      90.297554          99.774857     25                4\n",
       "29      90.178897          99.762687     30                4\n",
       "30      45.135086          45.697943      5                5\n",
       "31      56.553487          58.424608      7                5\n",
       "32      86.418401          96.565048     13                5\n",
       "33      89.439576          99.285019     15                5\n",
       "34      90.416210          99.793112     25                5\n",
       "35      90.242789          99.805282     30                5"
      ]
     },
     "execution_count": 70,
     "metadata": {},
     "output_type": "execute_result"
    }
   ],
   "source": [
    "G"
   ]
  },
  {
   "cell_type": "code",
   "execution_count": 71,
   "metadata": {},
   "outputs": [],
   "source": [
    "O=G"
   ]
  },
  {
   "cell_type": "code",
   "execution_count": null,
   "metadata": {},
   "outputs": [],
   "source": []
  },
  {
   "cell_type": "code",
   "execution_count": 72,
   "metadata": {},
   "outputs": [],
   "source": [
    "e = O['number of trees'].unique()"
   ]
  },
  {
   "cell_type": "code",
   "execution_count": 73,
   "metadata": {},
   "outputs": [],
   "source": [
    "t =list(O['number of trees'])\n",
    "    "
   ]
  },
  {
   "cell_type": "code",
   "execution_count": 74,
   "metadata": {},
   "outputs": [],
   "source": [
    "for i in range(len(t)):\n",
    "    t[i] = trees[t[i]]"
   ]
  },
  {
   "cell_type": "code",
   "execution_count": 75,
   "metadata": {},
   "outputs": [
    {
     "data": {
      "text/plain": [
       "[50,\n",
       " 50,\n",
       " 50,\n",
       " 50,\n",
       " 50,\n",
       " 50,\n",
       " 100,\n",
       " 100,\n",
       " 100,\n",
       " 100,\n",
       " 100,\n",
       " 100,\n",
       " 120,\n",
       " 120,\n",
       " 120,\n",
       " 120,\n",
       " 120,\n",
       " 120,\n",
       " 150,\n",
       " 150,\n",
       " 150,\n",
       " 150,\n",
       " 150,\n",
       " 150,\n",
       " 200,\n",
       " 200,\n",
       " 200,\n",
       " 200,\n",
       " 200,\n",
       " 200,\n",
       " 300,\n",
       " 300,\n",
       " 300,\n",
       " 300,\n",
       " 300,\n",
       " 300]"
      ]
     },
     "execution_count": 75,
     "metadata": {},
     "output_type": "execute_result"
    }
   ],
   "source": [
    "t"
   ]
  },
  {
   "cell_type": "code",
   "execution_count": 76,
   "metadata": {},
   "outputs": [],
   "source": [
    "O=O.drop('number of trees',axis=1)\n"
   ]
  },
  {
   "cell_type": "code",
   "execution_count": 77,
   "metadata": {},
   "outputs": [],
   "source": [
    "O['number of trees'] = t"
   ]
  },
  {
   "cell_type": "code",
   "execution_count": 78,
   "metadata": {},
   "outputs": [
    {
     "data": {
      "text/html": [
       "<div>\n",
       "<style scoped>\n",
       "    .dataframe tbody tr th:only-of-type {\n",
       "        vertical-align: middle;\n",
       "    }\n",
       "\n",
       "    .dataframe tbody tr th {\n",
       "        vertical-align: top;\n",
       "    }\n",
       "\n",
       "    .dataframe thead th {\n",
       "        text-align: right;\n",
       "    }\n",
       "</style>\n",
       "<table border=\"1\" class=\"dataframe\">\n",
       "  <thead>\n",
       "    <tr style=\"text-align: right;\">\n",
       "      <th></th>\n",
       "      <th>test accuracy</th>\n",
       "      <th>training accuracy</th>\n",
       "      <th>depth</th>\n",
       "      <th>number of trees</th>\n",
       "    </tr>\n",
       "  </thead>\n",
       "  <tbody>\n",
       "    <tr>\n",
       "      <th>0</th>\n",
       "      <td>44.943410</td>\n",
       "      <td>45.414993</td>\n",
       "      <td>5</td>\n",
       "      <td>50</td>\n",
       "    </tr>\n",
       "    <tr>\n",
       "      <th>1</th>\n",
       "      <td>56.261409</td>\n",
       "      <td>58.312036</td>\n",
       "      <td>7</td>\n",
       "      <td>50</td>\n",
       "    </tr>\n",
       "    <tr>\n",
       "      <th>2</th>\n",
       "      <td>86.035049</td>\n",
       "      <td>96.026530</td>\n",
       "      <td>13</td>\n",
       "      <td>50</td>\n",
       "    </tr>\n",
       "    <tr>\n",
       "      <th>3</th>\n",
       "      <td>88.481198</td>\n",
       "      <td>98.740416</td>\n",
       "      <td>15</td>\n",
       "      <td>50</td>\n",
       "    </tr>\n",
       "    <tr>\n",
       "      <th>4</th>\n",
       "      <td>89.448704</td>\n",
       "      <td>99.510162</td>\n",
       "      <td>25</td>\n",
       "      <td>50</td>\n",
       "    </tr>\n",
       "    <tr>\n",
       "      <th>5</th>\n",
       "      <td>89.485214</td>\n",
       "      <td>99.534502</td>\n",
       "      <td>30</td>\n",
       "      <td>50</td>\n",
       "    </tr>\n",
       "    <tr>\n",
       "      <th>6</th>\n",
       "      <td>44.797371</td>\n",
       "      <td>45.497140</td>\n",
       "      <td>5</td>\n",
       "      <td>100</td>\n",
       "    </tr>\n",
       "    <tr>\n",
       "      <th>7</th>\n",
       "      <td>56.334429</td>\n",
       "      <td>58.308994</td>\n",
       "      <td>7</td>\n",
       "      <td>100</td>\n",
       "    </tr>\n",
       "    <tr>\n",
       "      <th>8</th>\n",
       "      <td>86.619204</td>\n",
       "      <td>96.388585</td>\n",
       "      <td>13</td>\n",
       "      <td>100</td>\n",
       "    </tr>\n",
       "    <tr>\n",
       "      <th>9</th>\n",
       "      <td>89.101862</td>\n",
       "      <td>99.072046</td>\n",
       "      <td>15</td>\n",
       "      <td>100</td>\n",
       "    </tr>\n",
       "    <tr>\n",
       "      <th>10</th>\n",
       "      <td>89.959839</td>\n",
       "      <td>99.677498</td>\n",
       "      <td>25</td>\n",
       "      <td>100</td>\n",
       "    </tr>\n",
       "    <tr>\n",
       "      <th>11</th>\n",
       "      <td>90.087623</td>\n",
       "      <td>99.717050</td>\n",
       "      <td>30</td>\n",
       "      <td>100</td>\n",
       "    </tr>\n",
       "    <tr>\n",
       "      <th>12</th>\n",
       "      <td>45.162468</td>\n",
       "      <td>45.804430</td>\n",
       "      <td>5</td>\n",
       "      <td>120</td>\n",
       "    </tr>\n",
       "    <tr>\n",
       "      <th>13</th>\n",
       "      <td>56.425703</td>\n",
       "      <td>58.631496</td>\n",
       "      <td>7</td>\n",
       "      <td>120</td>\n",
       "    </tr>\n",
       "    <tr>\n",
       "      <th>14</th>\n",
       "      <td>86.673969</td>\n",
       "      <td>96.510284</td>\n",
       "      <td>13</td>\n",
       "      <td>120</td>\n",
       "    </tr>\n",
       "    <tr>\n",
       "      <th>15</th>\n",
       "      <td>89.311793</td>\n",
       "      <td>99.099428</td>\n",
       "      <td>15</td>\n",
       "      <td>120</td>\n",
       "    </tr>\n",
       "    <tr>\n",
       "      <th>16</th>\n",
       "      <td>90.014604</td>\n",
       "      <td>99.668370</td>\n",
       "      <td>25</td>\n",
       "      <td>120</td>\n",
       "    </tr>\n",
       "    <tr>\n",
       "      <th>17</th>\n",
       "      <td>90.206280</td>\n",
       "      <td>99.753560</td>\n",
       "      <td>30</td>\n",
       "      <td>120</td>\n",
       "    </tr>\n",
       "    <tr>\n",
       "      <th>18</th>\n",
       "      <td>44.852136</td>\n",
       "      <td>45.481928</td>\n",
       "      <td>5</td>\n",
       "      <td>150</td>\n",
       "    </tr>\n",
       "    <tr>\n",
       "      <th>19</th>\n",
       "      <td>56.553487</td>\n",
       "      <td>58.649751</td>\n",
       "      <td>7</td>\n",
       "      <td>150</td>\n",
       "    </tr>\n",
       "    <tr>\n",
       "      <th>20</th>\n",
       "      <td>86.436656</td>\n",
       "      <td>96.473774</td>\n",
       "      <td>13</td>\n",
       "      <td>150</td>\n",
       "    </tr>\n",
       "    <tr>\n",
       "      <th>21</th>\n",
       "      <td>89.266156</td>\n",
       "      <td>99.166362</td>\n",
       "      <td>15</td>\n",
       "      <td>150</td>\n",
       "    </tr>\n",
       "    <tr>\n",
       "      <th>22</th>\n",
       "      <td>90.087623</td>\n",
       "      <td>99.756602</td>\n",
       "      <td>25</td>\n",
       "      <td>150</td>\n",
       "    </tr>\n",
       "    <tr>\n",
       "      <th>23</th>\n",
       "      <td>90.324936</td>\n",
       "      <td>99.741390</td>\n",
       "      <td>30</td>\n",
       "      <td>150</td>\n",
       "    </tr>\n",
       "    <tr>\n",
       "      <th>24</th>\n",
       "      <td>45.463673</td>\n",
       "      <td>45.996106</td>\n",
       "      <td>5</td>\n",
       "      <td>200</td>\n",
       "    </tr>\n",
       "    <tr>\n",
       "      <th>25</th>\n",
       "      <td>56.179263</td>\n",
       "      <td>58.235974</td>\n",
       "      <td>7</td>\n",
       "      <td>200</td>\n",
       "    </tr>\n",
       "    <tr>\n",
       "      <th>26</th>\n",
       "      <td>86.664841</td>\n",
       "      <td>96.571133</td>\n",
       "      <td>13</td>\n",
       "      <td>200</td>\n",
       "    </tr>\n",
       "    <tr>\n",
       "      <th>27</th>\n",
       "      <td>89.448704</td>\n",
       "      <td>99.239382</td>\n",
       "      <td>15</td>\n",
       "      <td>200</td>\n",
       "    </tr>\n",
       "    <tr>\n",
       "      <th>28</th>\n",
       "      <td>90.297554</td>\n",
       "      <td>99.774857</td>\n",
       "      <td>25</td>\n",
       "      <td>200</td>\n",
       "    </tr>\n",
       "    <tr>\n",
       "      <th>29</th>\n",
       "      <td>90.178897</td>\n",
       "      <td>99.762687</td>\n",
       "      <td>30</td>\n",
       "      <td>200</td>\n",
       "    </tr>\n",
       "    <tr>\n",
       "      <th>30</th>\n",
       "      <td>45.135086</td>\n",
       "      <td>45.697943</td>\n",
       "      <td>5</td>\n",
       "      <td>300</td>\n",
       "    </tr>\n",
       "    <tr>\n",
       "      <th>31</th>\n",
       "      <td>56.553487</td>\n",
       "      <td>58.424608</td>\n",
       "      <td>7</td>\n",
       "      <td>300</td>\n",
       "    </tr>\n",
       "    <tr>\n",
       "      <th>32</th>\n",
       "      <td>86.418401</td>\n",
       "      <td>96.565048</td>\n",
       "      <td>13</td>\n",
       "      <td>300</td>\n",
       "    </tr>\n",
       "    <tr>\n",
       "      <th>33</th>\n",
       "      <td>89.439576</td>\n",
       "      <td>99.285019</td>\n",
       "      <td>15</td>\n",
       "      <td>300</td>\n",
       "    </tr>\n",
       "    <tr>\n",
       "      <th>34</th>\n",
       "      <td>90.416210</td>\n",
       "      <td>99.793112</td>\n",
       "      <td>25</td>\n",
       "      <td>300</td>\n",
       "    </tr>\n",
       "    <tr>\n",
       "      <th>35</th>\n",
       "      <td>90.242789</td>\n",
       "      <td>99.805282</td>\n",
       "      <td>30</td>\n",
       "      <td>300</td>\n",
       "    </tr>\n",
       "  </tbody>\n",
       "</table>\n",
       "</div>"
      ],
      "text/plain": [
       "    test accuracy  training accuracy  depth  number of trees\n",
       "0       44.943410          45.414993      5               50\n",
       "1       56.261409          58.312036      7               50\n",
       "2       86.035049          96.026530     13               50\n",
       "3       88.481198          98.740416     15               50\n",
       "4       89.448704          99.510162     25               50\n",
       "5       89.485214          99.534502     30               50\n",
       "6       44.797371          45.497140      5              100\n",
       "7       56.334429          58.308994      7              100\n",
       "8       86.619204          96.388585     13              100\n",
       "9       89.101862          99.072046     15              100\n",
       "10      89.959839          99.677498     25              100\n",
       "11      90.087623          99.717050     30              100\n",
       "12      45.162468          45.804430      5              120\n",
       "13      56.425703          58.631496      7              120\n",
       "14      86.673969          96.510284     13              120\n",
       "15      89.311793          99.099428     15              120\n",
       "16      90.014604          99.668370     25              120\n",
       "17      90.206280          99.753560     30              120\n",
       "18      44.852136          45.481928      5              150\n",
       "19      56.553487          58.649751      7              150\n",
       "20      86.436656          96.473774     13              150\n",
       "21      89.266156          99.166362     15              150\n",
       "22      90.087623          99.756602     25              150\n",
       "23      90.324936          99.741390     30              150\n",
       "24      45.463673          45.996106      5              200\n",
       "25      56.179263          58.235974      7              200\n",
       "26      86.664841          96.571133     13              200\n",
       "27      89.448704          99.239382     15              200\n",
       "28      90.297554          99.774857     25              200\n",
       "29      90.178897          99.762687     30              200\n",
       "30      45.135086          45.697943      5              300\n",
       "31      56.553487          58.424608      7              300\n",
       "32      86.418401          96.565048     13              300\n",
       "33      89.439576          99.285019     15              300\n",
       "34      90.416210          99.793112     25              300\n",
       "35      90.242789          99.805282     30              300"
      ]
     },
     "execution_count": 78,
     "metadata": {},
     "output_type": "execute_result"
    }
   ],
   "source": [
    "O"
   ]
  },
  {
   "cell_type": "code",
   "execution_count": 79,
   "metadata": {},
   "outputs": [],
   "source": [
    " I=O.query('depth==5')"
   ]
  },
  {
   "cell_type": "code",
   "execution_count": 80,
   "metadata": {},
   "outputs": [
    {
     "data": {
      "text/plain": [
       "Text(0.5, 1.0, 'accuracies for tree depth of 5')"
      ]
     },
     "execution_count": 80,
     "metadata": {},
     "output_type": "execute_result"
    },
    {
     "data": {
      "image/png": "[encoded data removed]",
      "text/plain": [
       "<Figure size 432x288 with 1 Axes>"
      ]
     },
     "metadata": {
      "needs_background": "light"
     },
     "output_type": "display_data"
    }
   ],
   "source": [
    "sns.lineplot(x= I['number of trees'],y=I['training accuracy'],label='training accuracy').set_ylabel('accuracies')\n",
    "sns.lineplot(x= I['number of trees'],y=I['test accuracy'],label='testing accuracy')\n",
    "plt.title(\"accuracies for tree depth of 5\")\n"
   ]
  },
  {
   "cell_type": "code",
   "execution_count": 81,
   "metadata": {},
   "outputs": [
    {
     "data": {
      "text/plain": [
       "Text(0.5, 1.0, 'accuracies for tree depth of 7')"
      ]
     },
     "execution_count": 81,
     "metadata": {},
     "output_type": "execute_result"
    },
    {
     "data": {
      "image/png": "[encoded data removed]",
      "text/plain": [
       "<Figure size 432x288 with 1 Axes>"
      ]
     },
     "metadata": {
      "needs_background": "light"
     },
     "output_type": "display_data"
    }
   ],
   "source": [
    "I=O.query('depth==7')\n",
    "sns.lineplot(x= I['number of trees'],y=I['training accuracy'],label='training accuracy').set_ylabel('accuracies')\n",
    "sns.lineplot(x= I['number of trees'],y=I['test accuracy'],label='testing accuracy')\n",
    "plt.title(\"accuracies for tree depth of 7\")\n",
    "\n"
   ]
  },
  {
   "cell_type": "code",
   "execution_count": 82,
   "metadata": {},
   "outputs": [
    {
     "data": {
      "text/plain": [
       "Text(0.5, 1.0, 'accuracies for tree depth of 13')"
      ]
     },
     "execution_count": 82,
     "metadata": {},
     "output_type": "execute_result"
    },
    {
     "data": {
      "image/png": "[encoded data removed]",
      "text/plain": [
       "<Figure size 432x288 with 1 Axes>"
      ]
     },
     "metadata": {
      "needs_background": "light"
     },
     "output_type": "display_data"
    }
   ],
   "source": [
    "I=O.query('depth==13')\n",
    "sns.lineplot(x= I['number of trees'],y=I['training accuracy'],label='training accuracy').set_ylabel('accuracies')\n",
    "sns.lineplot(x= I['number of trees'],y=I['test accuracy'],label='testing accuracy')\n",
    "plt.title(\"accuracies for tree depth of 13\")"
   ]
  },
  {
   "cell_type": "code",
   "execution_count": 83,
   "metadata": {},
   "outputs": [
    {
     "data": {
      "text/plain": [
       "Text(0.5, 1.0, 'accuracies for tree depth of 15')"
      ]
     },
     "execution_count": 83,
     "metadata": {},
     "output_type": "execute_result"
    },
    {
     "data": {
      "image/png": "[encoded data removed]",
      "text/plain": [
       "<Figure size 432x288 with 1 Axes>"
      ]
     },
     "metadata": {
      "needs_background": "light"
     },
     "output_type": "display_data"
    }
   ],
   "source": [
    "I=O.query('depth==15')\n",
    "sns.lineplot(x= I['number of trees'],y=I['training accuracy'],label='training accuracy').set_ylabel('accuracies')\n",
    "sns.lineplot(x= I['number of trees'],y=I['test accuracy'],label='testing accuracy')\n",
    "plt.title(\"accuracies for tree depth of 15\")"
   ]
  },
  {
   "cell_type": "code",
   "execution_count": 84,
   "metadata": {},
   "outputs": [
    {
     "data": {
      "text/plain": [
       "Text(0.5, 1.0, 'accuracies for tree depth of 25')"
      ]
     },
     "execution_count": 84,
     "metadata": {},
     "output_type": "execute_result"
    },
    {
     "data": {
      "image/png": "[encoded data removed]",
      "text/plain": [
       "<Figure size 432x288 with 1 Axes>"
      ]
     },
     "metadata": {
      "needs_background": "light"
     },
     "output_type": "display_data"
    }
   ],
   "source": [
    "I=O.query('depth==25')\n",
    "sns.lineplot(x= I['number of trees'],y=I['training accuracy'],label='training accuracy').set_ylabel('accuracies')\n",
    "sns.lineplot(x= I['number of trees'],y=I['test accuracy'],label='testing accuracy')\n",
    "plt.title(\"accuracies for tree depth of 25\")"
   ]
  },
  {
   "cell_type": "code",
   "execution_count": 85,
   "metadata": {},
   "outputs": [
    {
     "data": {
      "text/plain": [
       "Text(0.5, 1.0, 'accuracies for tree depth of 30')"
      ]
     },
     "execution_count": 85,
     "metadata": {},
     "output_type": "execute_result"
    },
    {
     "data": {
      "image/png": "[encoded data removed]",
      "text/plain": [
       "<Figure size 432x288 with 1 Axes>"
      ]
     },
     "metadata": {
      "needs_background": "light"
     },
     "output_type": "display_data"
    }
   ],
   "source": [
    "I=O.query('depth==30')\n",
    "sns.lineplot(x= I['number of trees'],y=I['training accuracy'],label='training accuracy').set_ylabel('accuracies')\n",
    "sns.lineplot(x= I['number of trees'],y=I['test accuracy'],label='testing accuracy')\n",
    "plt.title(\"accuracies for tree depth of 30\")"
   ]
  },
  {
   "cell_type": "code",
   "execution_count": 88,
   "metadata": {
    "scrolled": true
   },
   "outputs": [
    {
     "data": {
      "text/plain": [
       "0    90.0\n",
       "dtype: float64"
      ]
     },
     "execution_count": 88,
     "metadata": {},
     "output_type": "execute_result"
    }
   ],
   "source": [
    "O['test accuracy'].round().mode()"
   ]
  },
  {
   "cell_type": "code",
   "execution_count": 89,
   "metadata": {},
   "outputs": [
    {
     "data": {
      "text/plain": [
       "0    100.0\n",
       "dtype: float64"
      ]
     },
     "execution_count": 89,
     "metadata": {},
     "output_type": "execute_result"
    }
   ],
   "source": [
    "O['training accuracy'].round().mode()"
   ]
  },
  {
   "cell_type": "code",
   "execution_count": null,
   "metadata": {},
   "outputs": [],
   "source": []
  }
 ],
 "metadata": {
  "accelerator": "GPU",
  "colab": {
   "collapsed_sections": [],
   "name": "Copy of q3.ipynb",
   "provenance": []
  },
  "interpreter": {
   "hash": "8b2bbfe2baf11a74864cbebc35dbd867a924551c1494f42238edac32a50e51b6"
  },
  "kernelspec": {
   "display_name": "Python 3",
   "language": "python",
   "name": "python3"
  },
  "language_info": {
   "codemirror_mode": {
    "name": "ipython",
    "version": 3
   },
   "file_extension": ".py",
   "mimetype": "text/x-python",
   "name": "python",
   "nbconvert_exporter": "python",
   "pygments_lexer": "ipython3",
   "version": "3.8.8"
  }
 },
 "nbformat": 4,
 "nbformat_minor": 1
}
